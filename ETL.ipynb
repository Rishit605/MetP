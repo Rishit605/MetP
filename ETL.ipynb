{
 "cells": [
  {
   "cell_type": "code",
   "execution_count": null,
   "metadata": {},
   "outputs": [],
   "source": [
    "!pip install xarray\n",
    "!pip install ecmwflibs\n",
    "!pip install cfgrib\n",
    "!pip install numpy\n",
    "!pip install pandas"
   ]
  },
  {
   "cell_type": "code",
   "execution_count": null,
   "metadata": {},
   "outputs": [],
   "source": [
    "from typing import List\n",
    "txt = str(\"filter_by_keys={'typeOfLevel': 'meanSea'}\\n    filter_by_keys={'typeOfLevel': 'hybrid'}\\n    filter_by_keys={'typeOfLevel': 'atmosphere'}\\n    filter_by_keys={'typeOfLevel': 'surface'}\\n    filter_by_keys={'typeOfLevel': 'planetaryBoundaryLayer'}\\n    filter_by_keys={'typeOfLevel': 'isobaricInPa'}\\n    filter_by_keys={'typeOfLevel': 'isobaricInhPa'}\\n    filter_by_keys={'typeOfLevel': 'heightAboveGround'}\\n    filter_by_keys={'typeOfLevel': 'depthBelowLandLayer'}\\n    filter_by_keys={'typeOfLevel': 'heightAboveSea'}\\n    filter_by_keys={'typeOfLevel': 'atmosphereSingleLayer'}\\n    filter_by_keys={'typeOfLevel': 'lowCloudLayer'}\\n    filter_by_keys={'typeOfLevel': 'middleCloudLayer'}\\n    filter_by_keys={'typeOfLevel': 'highCloudLayer'}\\n    filter_by_keys={'typeOfLevel': 'cloudCeiling'}\\n    filter_by_keys={'typeOfLevel': 'heightAboveGroundLayer'}\\n    filter_by_keys={'typeOfLevel': 'tropopause'}\\n    filter_by_keys={'typeOfLevel': 'maxWind'}\\n    filter_by_keys={'typeOfLevel': 'isothermZero'}\\n    filter_by_keys={'typeOfLevel': 'highestTroposphericFreezing'}\\n    filter_by_keys={'typeOfLevel': 'pressureFromGroundLayer'}\\n    filter_by_keys={'typeOfLevel': 'sigmaLayer'}\\n    filter_by_keys={'typeOfLevel': 'sigma'}\\n    filter_by_keys={'typeOfLevel': 'potentialVorticity'}\")\n",
    "\n",
    "def cls_txt(det: str):\n",
    "\n",
    "    \n",
    "\n",
    "    det = det.lower()\n",
    "    det = det.replace(\"=\", \"\")\n",
    "    det = det.replace(\"{\", \"\")\n",
    "    det = det.replace(\"}\", \"\")\n",
    "    det = det.replace(\"\\n\", \"\")\n",
    "    det = det.replace(\":\", \"\")\n",
    "    det = det.replace(\"'\", \"\")\n",
    "    det = det.replace(\"  \", \" \")\n",
    "    det = det.replace(\"filter_by_keys\", \"\")\n",
    "    det = det.replace(\"typeoflevel\", \"\")\n",
    "    det = det.replace(\"  \", \"\")\n",
    "    det = det.lstrip()\n",
    "    det = det.rstrip()\n",
    "    det = det\n",
    "    \n",
    "    det = det.replace(\" \", \", \")\n",
    "    return det\n",
    "\n",
    "txt2 = cls_txt(txt)\n",
    "\n",
    "perams = []\n",
    "txt3 = txt2.split(',')  # Split txt2 outside the loop\n",
    "for n in range(len(txt3)):\n",
    "    txt3[n] = txt3[n].lstrip()  # Corrected: Assign back the stripped string\n",
    "    perams.append(txt3[n])  # Corrected: Append the stripped string to perams\n",
    "\n",
    "perams.remove('hybrid')\n",
    "perams"
   ]
  },
  {
   "cell_type": "code",
   "execution_count": null,
   "metadata": {},
   "outputs": [],
   "source": [
    "### GFS DATA CURATION AND PREPROCESSING ###\n",
    "data_path = r\"C:\\Projs\\COde\\Earthquake\\earthquake-prediction\\data\\GFS\" # Change DATA PATH\n",
    "\n",
    "\n",
    "def wrf_prep_fn(pats, key_params):\n",
    "    \"\"\"\n",
    "    \n",
    "    \"\"\"\n",
    "    for root, dirs, files in os.walk(pats):\n",
    "        for f in files:\n",
    "            try:\n",
    "                if f.endswith('.grb2'):\n",
    "                    for key_param in perams:\n",
    "                        try:\n",
    "                            f_pt = os.path.join(root, f)\n",
    "                            ini_ds = open_dataset(f_pt, engine='cfgrib', backend_kwargs={'filter_by_keys': {'typeOfLevel': 'surface'}}, decode_cf=True)\n",
    "                            var_nams = list(loc_data(ini_ds, 22.71, 77.41).data_vars)\n",
    "\n",
    "                            init_df = pd.DataFrame()\n",
    "                            vals = []\n",
    "\n",
    "                            for var_name in var_nams:  # Loop through variable names\n",
    "                                \n",
    "                                data_value = loc_data(ini_ds, 22.71, 77.41)[var_name].values\n",
    "                                print(f\"{var_name}: {data_value}\")\n",
    "                                init_df[var_name] = ''  # Use variable name as column name\n",
    "\n",
    "                                vals.append(data_value)\n",
    "\n",
    "                            init_df.loc[len(init_df)] = vals\n",
    "                            ini_ds.close()\n",
    "                            return init_df\n",
    "                        except Exception as e:\n",
    "                            print(f\"{e}: Error opening the dataset file, probably hte required file format is not present.\")\n",
    "            except FileNotFoundError as e:\n",
    "                print(f\"{e}: Gridded Dataset File Not found, consider checking he directory.\")\n",
    "\n",
    "            # return data_value\n",
    "            \n",
    "\n",
    "dpfs = wrf_prep_fn(data_path, txt2)"
   ]
  },
  {
   "cell_type": "markdown",
   "metadata": {},
   "source": [
    "---"
   ]
  },
  {
   "cell_type": "code",
   "execution_count": 2,
   "metadata": {},
   "outputs": [],
   "source": [
    "import pandas as pd"
   ]
  },
  {
   "cell_type": "code",
   "execution_count": 3,
   "metadata": {},
   "outputs": [
    {
     "data": {
      "text/html": [
       "<div>\n",
       "<style scoped>\n",
       "    .dataframe tbody tr th:only-of-type {\n",
       "        vertical-align: middle;\n",
       "    }\n",
       "\n",
       "    .dataframe tbody tr th {\n",
       "        vertical-align: top;\n",
       "    }\n",
       "\n",
       "    .dataframe thead th {\n",
       "        text-align: right;\n",
       "    }\n",
       "</style>\n",
       "<table border=\"1\" class=\"dataframe\">\n",
       "  <thead>\n",
       "    <tr style=\"text-align: right;\">\n",
       "      <th></th>\n",
       "      <th>Date</th>\n",
       "      <th>Temperature (°C)</th>\n",
       "      <th>Humidity (%)</th>\n",
       "      <th>Precipitation (mm)</th>\n",
       "      <th>Wind Speed (m/s)</th>\n",
       "      <th>Wind Direction</th>\n",
       "      <th>Thunderstorm Likelihood</th>\n",
       "    </tr>\n",
       "  </thead>\n",
       "  <tbody>\n",
       "    <tr>\n",
       "      <th>0</th>\n",
       "      <td>2024-04-29</td>\n",
       "      <td>33.1</td>\n",
       "      <td>29</td>\n",
       "      <td>0.0000</td>\n",
       "      <td>1.8</td>\n",
       "      <td>west</td>\n",
       "      <td>No</td>\n",
       "    </tr>\n",
       "    <tr>\n",
       "      <th>1</th>\n",
       "      <td>2024-04-30</td>\n",
       "      <td>32.7</td>\n",
       "      <td>27</td>\n",
       "      <td>0.0000</td>\n",
       "      <td>1.9</td>\n",
       "      <td>west-northwest</td>\n",
       "      <td>No</td>\n",
       "    </tr>\n",
       "    <tr>\n",
       "      <th>2</th>\n",
       "      <td>2024-05-01</td>\n",
       "      <td>30.9</td>\n",
       "      <td>21</td>\n",
       "      <td>0.0000</td>\n",
       "      <td>2.3</td>\n",
       "      <td>west-northwest</td>\n",
       "      <td>No</td>\n",
       "    </tr>\n",
       "    <tr>\n",
       "      <th>3</th>\n",
       "      <td>2024-05-02</td>\n",
       "      <td>29.7</td>\n",
       "      <td>18</td>\n",
       "      <td>0.0000</td>\n",
       "      <td>1.6</td>\n",
       "      <td>west</td>\n",
       "      <td>No</td>\n",
       "    </tr>\n",
       "    <tr>\n",
       "      <th>4</th>\n",
       "      <td>2024-05-03</td>\n",
       "      <td>30.9</td>\n",
       "      <td>21</td>\n",
       "      <td>0.0000</td>\n",
       "      <td>1.1</td>\n",
       "      <td>west-northwest</td>\n",
       "      <td>No</td>\n",
       "    </tr>\n",
       "    <tr>\n",
       "      <th>5</th>\n",
       "      <td>2024-05-04</td>\n",
       "      <td>32.1</td>\n",
       "      <td>18</td>\n",
       "      <td>0.0000</td>\n",
       "      <td>1.6</td>\n",
       "      <td>west</td>\n",
       "      <td>No</td>\n",
       "    </tr>\n",
       "    <tr>\n",
       "      <th>6</th>\n",
       "      <td>2024-05-05</td>\n",
       "      <td>36.4</td>\n",
       "      <td>20</td>\n",
       "      <td>0.0000</td>\n",
       "      <td>5.6</td>\n",
       "      <td>west-northwest</td>\n",
       "      <td>No</td>\n",
       "    </tr>\n",
       "    <tr>\n",
       "      <th>7</th>\n",
       "      <td>2024-05-06</td>\n",
       "      <td>36.1</td>\n",
       "      <td>19</td>\n",
       "      <td>0.0000</td>\n",
       "      <td>5.3</td>\n",
       "      <td>west-northwest</td>\n",
       "      <td>No</td>\n",
       "    </tr>\n",
       "    <tr>\n",
       "      <th>8</th>\n",
       "      <td>2024-05-07</td>\n",
       "      <td>36.0</td>\n",
       "      <td>23</td>\n",
       "      <td>0.4375</td>\n",
       "      <td>5.9</td>\n",
       "      <td>west-northwest</td>\n",
       "      <td>No</td>\n",
       "    </tr>\n",
       "    <tr>\n",
       "      <th>9</th>\n",
       "      <td>2024-05-08</td>\n",
       "      <td>35.8</td>\n",
       "      <td>22</td>\n",
       "      <td>0.0000</td>\n",
       "      <td>3.3</td>\n",
       "      <td>west-northwest</td>\n",
       "      <td>No</td>\n",
       "    </tr>\n",
       "    <tr>\n",
       "      <th>10</th>\n",
       "      <td>2024-05-09</td>\n",
       "      <td>34.9</td>\n",
       "      <td>24</td>\n",
       "      <td>0.0000</td>\n",
       "      <td>6.0</td>\n",
       "      <td>west-northwest</td>\n",
       "      <td>No</td>\n",
       "    </tr>\n",
       "    <tr>\n",
       "      <th>11</th>\n",
       "      <td>2024-05-10</td>\n",
       "      <td>35.1</td>\n",
       "      <td>25</td>\n",
       "      <td>0.0000</td>\n",
       "      <td>7.4</td>\n",
       "      <td>west</td>\n",
       "      <td>No</td>\n",
       "    </tr>\n",
       "    <tr>\n",
       "      <th>12</th>\n",
       "      <td>2024-05-11</td>\n",
       "      <td>34.9</td>\n",
       "      <td>25</td>\n",
       "      <td>0.0000</td>\n",
       "      <td>5.2</td>\n",
       "      <td>west-northwest</td>\n",
       "      <td>No</td>\n",
       "    </tr>\n",
       "    <tr>\n",
       "      <th>13</th>\n",
       "      <td>2024-05-12</td>\n",
       "      <td>35.1</td>\n",
       "      <td>23</td>\n",
       "      <td>0.0000</td>\n",
       "      <td>3.8</td>\n",
       "      <td>south-southeast</td>\n",
       "      <td>No</td>\n",
       "    </tr>\n",
       "    <tr>\n",
       "      <th>14</th>\n",
       "      <td>2024-05-13</td>\n",
       "      <td>36.2</td>\n",
       "      <td>21</td>\n",
       "      <td>0.8125</td>\n",
       "      <td>5.0</td>\n",
       "      <td>west-southwest</td>\n",
       "      <td>No</td>\n",
       "    </tr>\n",
       "    <tr>\n",
       "      <th>15</th>\n",
       "      <td>2024-05-14</td>\n",
       "      <td>36.2</td>\n",
       "      <td>17</td>\n",
       "      <td>0.0000</td>\n",
       "      <td>4.1</td>\n",
       "      <td>southeast</td>\n",
       "      <td>No</td>\n",
       "    </tr>\n",
       "  </tbody>\n",
       "</table>\n",
       "</div>"
      ],
      "text/plain": [
       "          Date  Temperature (°C)  Humidity (%)  Precipitation (mm)  \\\n",
       "0   2024-04-29              33.1            29              0.0000   \n",
       "1   2024-04-30              32.7            27              0.0000   \n",
       "2   2024-05-01              30.9            21              0.0000   \n",
       "3   2024-05-02              29.7            18              0.0000   \n",
       "4   2024-05-03              30.9            21              0.0000   \n",
       "5   2024-05-04              32.1            18              0.0000   \n",
       "6   2024-05-05              36.4            20              0.0000   \n",
       "7   2024-05-06              36.1            19              0.0000   \n",
       "8   2024-05-07              36.0            23              0.4375   \n",
       "9   2024-05-08              35.8            22              0.0000   \n",
       "10  2024-05-09              34.9            24              0.0000   \n",
       "11  2024-05-10              35.1            25              0.0000   \n",
       "12  2024-05-11              34.9            25              0.0000   \n",
       "13  2024-05-12              35.1            23              0.0000   \n",
       "14  2024-05-13              36.2            21              0.8125   \n",
       "15  2024-05-14              36.2            17              0.0000   \n",
       "\n",
       "    Wind Speed (m/s)   Wind Direction Thunderstorm Likelihood  \n",
       "0                1.8             west                      No  \n",
       "1                1.9   west-northwest                      No  \n",
       "2                2.3   west-northwest                      No  \n",
       "3                1.6             west                      No  \n",
       "4                1.1   west-northwest                      No  \n",
       "5                1.6             west                      No  \n",
       "6                5.6   west-northwest                      No  \n",
       "7                5.3   west-northwest                      No  \n",
       "8                5.9   west-northwest                      No  \n",
       "9                3.3   west-northwest                      No  \n",
       "10               6.0   west-northwest                      No  \n",
       "11               7.4             west                      No  \n",
       "12               5.2   west-northwest                      No  \n",
       "13               3.8  south-southeast                      No  \n",
       "14               5.0   west-southwest                      No  \n",
       "15               4.1        southeast                      No  "
      ]
     },
     "execution_count": 3,
     "metadata": {},
     "output_type": "execute_result"
    }
   ],
   "source": [
    "df = pd.read_csv('data/bhopal_weather_forecast.csv')\n",
    "df"
   ]
  },
  {
   "cell_type": "code",
   "execution_count": 19,
   "metadata": {},
   "outputs": [],
   "source": [
    "def create_heatmap(dates, temperatures):\n",
    "  \"\"\"\n",
    "  Creates a daily temperature heatmap for the provided data.\n",
    "\n",
    "  Args:\n",
    "      dates (pandas.Series): Datetime series representing dates.\n",
    "      temperatures (pandas.Series): Numeric series representing temperatures.\n",
    "  \"\"\"\n",
    "\n",
    "  # Group data by day and calculate average temperature\n",
    "  daily_temps = dates.groupby(dates.dt.date).mean()['Temperature (°C)']\n",
    "\n",
    "  # Create a time series for the heatmap (assuming daily data)\n",
    "  days = pd.date_range(min(dates), max(dates)).tolist()\n",
    "\n",
    "  # Create a 2D list representing the heatmap data (one list per day)\n",
    "  heatmap_data = []\n",
    "  for day in days:\n",
    "    if day in daily_temps.index:\n",
    "      heatmap_data.append([day.day, day.month, daily_temps.loc[day]])\n",
    "    else:\n",
    "      heatmap_data.append([day.day, day.month, None])  # Fill missing values with None\n",
    "\n",
    "  # Configure the heatmap plot\n",
    "  fig, ax = plt.subplots()\n",
    "  ax.pcolormesh(\n",
    "      [d[0] for d in heatmap_data],  # Days\n",
    "      [d[1] for d in heatmap_data],  # Months\n",
    "      [d[2] if d[2] is not None else 0 for d in heatmap_data],  # Temperatures (handle missing values)\n",
    "      cmap='plasma'  # Adjust colormap as desired\n",
    "  )\n",
    "\n",
    "  # Set labels and title\n",
    "  ax.set_xlabel('Day of Month')\n",
    "  ax.set_ylabel('Month')\n",
    "  fig.colorbar(label='Temperature (°C)')  # Adjust units if needed\n",
    "  plt.title('Temperature Heatmap for Specific Location')\n",
    "\n",
    "  # Optional: Rotate x-axis labels for better readability\n",
    "  plt.xticks(rotation=45)\n",
    "  plt.tight_layout()\n",
    "  plt.show()\n"
   ]
  },
  {
   "cell_type": "code",
   "execution_count": 20,
   "metadata": {},
   "outputs": [],
   "source": [
    "temperatures = df['Temperature (°C)']\n",
    "dates = pd.to_datetime(df['Date'])"
   ]
  },
  {
   "cell_type": "code",
   "execution_count": null,
   "metadata": {},
   "outputs": [],
   "source": [
    "create_heatmap(dates, temperatures)"
   ]
  },
  {
   "cell_type": "code",
   "execution_count": null,
   "metadata": {},
   "outputs": [],
   "source": [
    "import pandas as pd\n",
    "import plotly.graph_objs as go\n",
    "\n",
    "# Load the data into a DataFrame\n",
    "df = pd.read_csv('data/bhopal_weather_forecast.csv')\n",
    "\n",
    "# Convert the Date column to datetime\n",
    "df['Date'] = pd.to_datetime(df['Date'])\n",
    "\n",
    "# Assuming you have the latitude and longitude for the location\n",
    "# Replace with the actual coordinates\n",
    "latitude = 23.2599\n",
    "longitude = 77.4126\n",
    "\n",
    "# Create a data frame with date, latitude, longitude, and temperature\n",
    "data = pd.DataFrame({\n",
    "    'date': df['Date'],\n",
    "    'lat': latitude,\n",
    "    'lon': longitude,\n",
    "    'temperature': df['Temperature (°C)']\n",
    "})\n",
    "\n",
    "# Create the heatmap trace\n",
    "heatmap_trace = go.Densitymapbox(\n",
    "    lat=data['lat'],\n",
    "    lon=data['lon'],\n",
    "    z=data['temperature'],\n",
    "    radius=100,\n",
    "    colorscale='Viridis'\n",
    ")\n",
    "\n",
    "# Create the map layout\n",
    "map_layout = go.Layout(\n",
    "    mapbox_style='open-street-map',\n",
    "    mapbox_center_lon=longitude,\n",
    "    mapbox_center_lat=latitude,\n",
    "    mapbox_zoom=10,\n",
    "    margin=dict(r=0, l=0, b=0, t=0)\n",
    ")\n",
    "\n",
    "# Create the Plotly figure\n",
    "fig = go.Figure(data=heatmap_trace, layout=map_layout)\n",
    "\n",
    "# Plot the figure\n",
    "fig.show()"
   ]
  },
  {
   "cell_type": "code",
   "execution_count": 29,
   "metadata": {},
   "outputs": [
    {
     "data": {
      "text/html": [
       "<div>\n",
       "<style scoped>\n",
       "    .dataframe tbody tr th:only-of-type {\n",
       "        vertical-align: middle;\n",
       "    }\n",
       "\n",
       "    .dataframe tbody tr th {\n",
       "        vertical-align: top;\n",
       "    }\n",
       "\n",
       "    .dataframe thead th {\n",
       "        text-align: right;\n",
       "    }\n",
       "</style>\n",
       "<table border=\"1\" class=\"dataframe\">\n",
       "  <thead>\n",
       "    <tr style=\"text-align: right;\">\n",
       "      <th></th>\n",
       "      <th>Date</th>\n",
       "      <th>Temperature (°C)</th>\n",
       "      <th>Humidity (%)</th>\n",
       "      <th>Precipitation (mm)</th>\n",
       "      <th>Wind Speed (m/s)</th>\n",
       "      <th>Wind Direction</th>\n",
       "      <th>Thunderstorm Likelihood</th>\n",
       "      <th>Longitude</th>\n",
       "      <th>Latitude</th>\n",
       "    </tr>\n",
       "  </thead>\n",
       "  <tbody>\n",
       "    <tr>\n",
       "      <th>0</th>\n",
       "      <td>2024-04-29</td>\n",
       "      <td>33.1</td>\n",
       "      <td>29</td>\n",
       "      <td>0.0000</td>\n",
       "      <td>1.8</td>\n",
       "      <td>west</td>\n",
       "      <td>No</td>\n",
       "      <td>23.2599</td>\n",
       "      <td>77.4126</td>\n",
       "    </tr>\n",
       "    <tr>\n",
       "      <th>1</th>\n",
       "      <td>2024-04-30</td>\n",
       "      <td>32.7</td>\n",
       "      <td>27</td>\n",
       "      <td>0.0000</td>\n",
       "      <td>1.9</td>\n",
       "      <td>west-northwest</td>\n",
       "      <td>No</td>\n",
       "      <td>23.2599</td>\n",
       "      <td>77.4126</td>\n",
       "    </tr>\n",
       "    <tr>\n",
       "      <th>2</th>\n",
       "      <td>2024-05-01</td>\n",
       "      <td>30.9</td>\n",
       "      <td>21</td>\n",
       "      <td>0.0000</td>\n",
       "      <td>2.3</td>\n",
       "      <td>west-northwest</td>\n",
       "      <td>No</td>\n",
       "      <td>23.2599</td>\n",
       "      <td>77.4126</td>\n",
       "    </tr>\n",
       "    <tr>\n",
       "      <th>3</th>\n",
       "      <td>2024-05-02</td>\n",
       "      <td>29.7</td>\n",
       "      <td>18</td>\n",
       "      <td>0.0000</td>\n",
       "      <td>1.6</td>\n",
       "      <td>west</td>\n",
       "      <td>No</td>\n",
       "      <td>23.2599</td>\n",
       "      <td>77.4126</td>\n",
       "    </tr>\n",
       "    <tr>\n",
       "      <th>4</th>\n",
       "      <td>2024-05-03</td>\n",
       "      <td>30.9</td>\n",
       "      <td>21</td>\n",
       "      <td>0.0000</td>\n",
       "      <td>1.1</td>\n",
       "      <td>west-northwest</td>\n",
       "      <td>No</td>\n",
       "      <td>23.2599</td>\n",
       "      <td>77.4126</td>\n",
       "    </tr>\n",
       "    <tr>\n",
       "      <th>5</th>\n",
       "      <td>2024-05-04</td>\n",
       "      <td>32.1</td>\n",
       "      <td>18</td>\n",
       "      <td>0.0000</td>\n",
       "      <td>1.6</td>\n",
       "      <td>west</td>\n",
       "      <td>No</td>\n",
       "      <td>23.2599</td>\n",
       "      <td>77.4126</td>\n",
       "    </tr>\n",
       "    <tr>\n",
       "      <th>6</th>\n",
       "      <td>2024-05-05</td>\n",
       "      <td>36.4</td>\n",
       "      <td>20</td>\n",
       "      <td>0.0000</td>\n",
       "      <td>5.6</td>\n",
       "      <td>west-northwest</td>\n",
       "      <td>No</td>\n",
       "      <td>23.2599</td>\n",
       "      <td>77.4126</td>\n",
       "    </tr>\n",
       "    <tr>\n",
       "      <th>7</th>\n",
       "      <td>2024-05-06</td>\n",
       "      <td>36.1</td>\n",
       "      <td>19</td>\n",
       "      <td>0.0000</td>\n",
       "      <td>5.3</td>\n",
       "      <td>west-northwest</td>\n",
       "      <td>No</td>\n",
       "      <td>23.2599</td>\n",
       "      <td>77.4126</td>\n",
       "    </tr>\n",
       "    <tr>\n",
       "      <th>8</th>\n",
       "      <td>2024-05-07</td>\n",
       "      <td>36.0</td>\n",
       "      <td>23</td>\n",
       "      <td>0.4375</td>\n",
       "      <td>5.9</td>\n",
       "      <td>west-northwest</td>\n",
       "      <td>No</td>\n",
       "      <td>23.2599</td>\n",
       "      <td>77.4126</td>\n",
       "    </tr>\n",
       "    <tr>\n",
       "      <th>9</th>\n",
       "      <td>2024-05-08</td>\n",
       "      <td>35.8</td>\n",
       "      <td>22</td>\n",
       "      <td>0.0000</td>\n",
       "      <td>3.3</td>\n",
       "      <td>west-northwest</td>\n",
       "      <td>No</td>\n",
       "      <td>23.2599</td>\n",
       "      <td>77.4126</td>\n",
       "    </tr>\n",
       "    <tr>\n",
       "      <th>10</th>\n",
       "      <td>2024-05-09</td>\n",
       "      <td>34.9</td>\n",
       "      <td>24</td>\n",
       "      <td>0.0000</td>\n",
       "      <td>6.0</td>\n",
       "      <td>west-northwest</td>\n",
       "      <td>No</td>\n",
       "      <td>23.2599</td>\n",
       "      <td>77.4126</td>\n",
       "    </tr>\n",
       "    <tr>\n",
       "      <th>11</th>\n",
       "      <td>2024-05-10</td>\n",
       "      <td>35.1</td>\n",
       "      <td>25</td>\n",
       "      <td>0.0000</td>\n",
       "      <td>7.4</td>\n",
       "      <td>west</td>\n",
       "      <td>No</td>\n",
       "      <td>23.2599</td>\n",
       "      <td>77.4126</td>\n",
       "    </tr>\n",
       "    <tr>\n",
       "      <th>12</th>\n",
       "      <td>2024-05-11</td>\n",
       "      <td>34.9</td>\n",
       "      <td>25</td>\n",
       "      <td>0.0000</td>\n",
       "      <td>5.2</td>\n",
       "      <td>west-northwest</td>\n",
       "      <td>No</td>\n",
       "      <td>23.2599</td>\n",
       "      <td>77.4126</td>\n",
       "    </tr>\n",
       "    <tr>\n",
       "      <th>13</th>\n",
       "      <td>2024-05-12</td>\n",
       "      <td>35.1</td>\n",
       "      <td>23</td>\n",
       "      <td>0.0000</td>\n",
       "      <td>3.8</td>\n",
       "      <td>south-southeast</td>\n",
       "      <td>No</td>\n",
       "      <td>23.2599</td>\n",
       "      <td>77.4126</td>\n",
       "    </tr>\n",
       "    <tr>\n",
       "      <th>14</th>\n",
       "      <td>2024-05-13</td>\n",
       "      <td>36.2</td>\n",
       "      <td>21</td>\n",
       "      <td>0.8125</td>\n",
       "      <td>5.0</td>\n",
       "      <td>west-southwest</td>\n",
       "      <td>No</td>\n",
       "      <td>23.2599</td>\n",
       "      <td>77.4126</td>\n",
       "    </tr>\n",
       "    <tr>\n",
       "      <th>15</th>\n",
       "      <td>2024-05-14</td>\n",
       "      <td>36.2</td>\n",
       "      <td>17</td>\n",
       "      <td>0.0000</td>\n",
       "      <td>4.1</td>\n",
       "      <td>southeast</td>\n",
       "      <td>No</td>\n",
       "      <td>23.2599</td>\n",
       "      <td>77.4126</td>\n",
       "    </tr>\n",
       "  </tbody>\n",
       "</table>\n",
       "</div>"
      ],
      "text/plain": [
       "         Date  Temperature (°C)  Humidity (%)  Precipitation (mm)  \\\n",
       "0  2024-04-29              33.1            29              0.0000   \n",
       "1  2024-04-30              32.7            27              0.0000   \n",
       "2  2024-05-01              30.9            21              0.0000   \n",
       "3  2024-05-02              29.7            18              0.0000   \n",
       "4  2024-05-03              30.9            21              0.0000   \n",
       "5  2024-05-04              32.1            18              0.0000   \n",
       "6  2024-05-05              36.4            20              0.0000   \n",
       "7  2024-05-06              36.1            19              0.0000   \n",
       "8  2024-05-07              36.0            23              0.4375   \n",
       "9  2024-05-08              35.8            22              0.0000   \n",
       "10 2024-05-09              34.9            24              0.0000   \n",
       "11 2024-05-10              35.1            25              0.0000   \n",
       "12 2024-05-11              34.9            25              0.0000   \n",
       "13 2024-05-12              35.1            23              0.0000   \n",
       "14 2024-05-13              36.2            21              0.8125   \n",
       "15 2024-05-14              36.2            17              0.0000   \n",
       "\n",
       "    Wind Speed (m/s)   Wind Direction Thunderstorm Likelihood  Longitude  \\\n",
       "0                1.8             west                      No    23.2599   \n",
       "1                1.9   west-northwest                      No    23.2599   \n",
       "2                2.3   west-northwest                      No    23.2599   \n",
       "3                1.6             west                      No    23.2599   \n",
       "4                1.1   west-northwest                      No    23.2599   \n",
       "5                1.6             west                      No    23.2599   \n",
       "6                5.6   west-northwest                      No    23.2599   \n",
       "7                5.3   west-northwest                      No    23.2599   \n",
       "8                5.9   west-northwest                      No    23.2599   \n",
       "9                3.3   west-northwest                      No    23.2599   \n",
       "10               6.0   west-northwest                      No    23.2599   \n",
       "11               7.4             west                      No    23.2599   \n",
       "12               5.2   west-northwest                      No    23.2599   \n",
       "13               3.8  south-southeast                      No    23.2599   \n",
       "14               5.0   west-southwest                      No    23.2599   \n",
       "15               4.1        southeast                      No    23.2599   \n",
       "\n",
       "    Latitude  \n",
       "0    77.4126  \n",
       "1    77.4126  \n",
       "2    77.4126  \n",
       "3    77.4126  \n",
       "4    77.4126  \n",
       "5    77.4126  \n",
       "6    77.4126  \n",
       "7    77.4126  \n",
       "8    77.4126  \n",
       "9    77.4126  \n",
       "10   77.4126  \n",
       "11   77.4126  \n",
       "12   77.4126  \n",
       "13   77.4126  \n",
       "14   77.4126  \n",
       "15   77.4126  "
      ]
     },
     "execution_count": 29,
     "metadata": {},
     "output_type": "execute_result"
    }
   ],
   "source": [
    "df"
   ]
  },
  {
   "cell_type": "code",
   "execution_count": 31,
   "metadata": {},
   "outputs": [
    {
     "data": {
      "text/plain": [
       "0     77.4126\n",
       "1     77.4126\n",
       "2     77.4126\n",
       "3     77.4126\n",
       "4     77.4126\n",
       "5     77.4126\n",
       "6     77.4126\n",
       "7     77.4126\n",
       "8     77.4126\n",
       "9     77.4126\n",
       "10    77.4126\n",
       "11    77.4126\n",
       "12    77.4126\n",
       "13    77.4126\n",
       "14    77.4126\n",
       "15    77.4126\n",
       "Name: Latitude, dtype: float64"
      ]
     },
     "execution_count": 31,
     "metadata": {},
     "output_type": "execute_result"
    }
   ],
   "source": [
    "df.Latitude"
   ]
  },
  {
   "cell_type": "code",
   "execution_count": 34,
   "metadata": {},
   "outputs": [
    {
     "data": {
      "application/vnd.plotly.v1+json": {
       "config": {
        "plotlyServerURL": "https://plot.ly"
       },
       "data": [
        {
         "colorscale": [
          [
           0,
           "#440154"
          ],
          [
           0.1111111111111111,
           "#482878"
          ],
          [
           0.2222222222222222,
           "#3e4989"
          ],
          [
           0.3333333333333333,
           "#31688e"
          ],
          [
           0.4444444444444444,
           "#26828e"
          ],
          [
           0.5555555555555556,
           "#1f9e89"
          ],
          [
           0.6666666666666666,
           "#35b779"
          ],
          [
           0.7777777777777778,
           "#6ece58"
          ],
          [
           0.8888888888888888,
           "#b5de2b"
          ],
          [
           1,
           "#fde725"
          ]
         ],
         "lat": [
          23.2599,
          23.2599,
          23.2599,
          23.2599,
          23.2599,
          23.2599,
          23.2599,
          23.2599,
          23.2599,
          23.2599,
          23.2599,
          23.2599,
          23.2599,
          23.2599,
          23.2599,
          23.2599
         ],
         "lon": [
          77.4126,
          77.4126,
          77.4126,
          77.4126,
          77.4126,
          77.4126,
          77.4126,
          77.4126,
          77.4126,
          77.4126,
          77.4126,
          77.4126,
          77.4126,
          77.4126,
          77.4126,
          77.4126
         ],
         "radius": 50,
         "type": "densitymapbox",
         "z": [
          29.275322101087177,
          29.9773204964647,
          36.99353156933613,
          22.38656559469552,
          31.687858944394733,
          36.595031525521804,
          29.05112855311353,
          41.61017985404854,
          32.621243450946785,
          42.67495823018192,
          40.063554972589976,
          30.32253286369282,
          39.246298700063136,
          31.06648589852402,
          41.12344645704463,
          35.10739536939951
         ]
        },
        {
         "colorscale": [
          [
           0,
           "rgb(0,0,255)"
          ],
          [
           1,
           "rgb(255,0,0)"
          ]
         ],
         "line": {
          "smoothing": 0.9
         },
         "showscale": false,
         "type": "contour",
         "x": [
          77.4126
         ],
         "y": [
          23.2599
         ],
         "z": [
          [
           29.275322101087177,
           29.9773204964647,
           36.99353156933613,
           22.38656559469552,
           31.687858944394733,
           36.595031525521804,
           29.05112855311353,
           41.61017985404854,
           32.621243450946785,
           42.67495823018192,
           40.063554972589976,
           30.32253286369282,
           39.246298700063136,
           31.06648589852402,
           41.12344645704463,
           35.10739536939951
          ]
         ]
        }
       ],
       "layout": {
        "mapbox": {
         "center": {
          "lat": 23.2599,
          "lon": 77.4126
         },
         "style": "open-street-map",
         "zoom": 15
        },
        "margin": {
         "b": 0,
         "l": 0,
         "r": 0,
         "t": 0
        },
        "template": {
         "data": {
          "bar": [
           {
            "error_x": {
             "color": "#2a3f5f"
            },
            "error_y": {
             "color": "#2a3f5f"
            },
            "marker": {
             "line": {
              "color": "#E5ECF6",
              "width": 0.5
             },
             "pattern": {
              "fillmode": "overlay",
              "size": 10,
              "solidity": 0.2
             }
            },
            "type": "bar"
           }
          ],
          "barpolar": [
           {
            "marker": {
             "line": {
              "color": "#E5ECF6",
              "width": 0.5
             },
             "pattern": {
              "fillmode": "overlay",
              "size": 10,
              "solidity": 0.2
             }
            },
            "type": "barpolar"
           }
          ],
          "carpet": [
           {
            "aaxis": {
             "endlinecolor": "#2a3f5f",
             "gridcolor": "white",
             "linecolor": "white",
             "minorgridcolor": "white",
             "startlinecolor": "#2a3f5f"
            },
            "baxis": {
             "endlinecolor": "#2a3f5f",
             "gridcolor": "white",
             "linecolor": "white",
             "minorgridcolor": "white",
             "startlinecolor": "#2a3f5f"
            },
            "type": "carpet"
           }
          ],
          "choropleth": [
           {
            "colorbar": {
             "outlinewidth": 0,
             "ticks": ""
            },
            "type": "choropleth"
           }
          ],
          "contour": [
           {
            "colorbar": {
             "outlinewidth": 0,
             "ticks": ""
            },
            "colorscale": [
             [
              0,
              "#0d0887"
             ],
             [
              0.1111111111111111,
              "#46039f"
             ],
             [
              0.2222222222222222,
              "#7201a8"
             ],
             [
              0.3333333333333333,
              "#9c179e"
             ],
             [
              0.4444444444444444,
              "#bd3786"
             ],
             [
              0.5555555555555556,
              "#d8576b"
             ],
             [
              0.6666666666666666,
              "#ed7953"
             ],
             [
              0.7777777777777778,
              "#fb9f3a"
             ],
             [
              0.8888888888888888,
              "#fdca26"
             ],
             [
              1,
              "#f0f921"
             ]
            ],
            "type": "contour"
           }
          ],
          "contourcarpet": [
           {
            "colorbar": {
             "outlinewidth": 0,
             "ticks": ""
            },
            "type": "contourcarpet"
           }
          ],
          "heatmap": [
           {
            "colorbar": {
             "outlinewidth": 0,
             "ticks": ""
            },
            "colorscale": [
             [
              0,
              "#0d0887"
             ],
             [
              0.1111111111111111,
              "#46039f"
             ],
             [
              0.2222222222222222,
              "#7201a8"
             ],
             [
              0.3333333333333333,
              "#9c179e"
             ],
             [
              0.4444444444444444,
              "#bd3786"
             ],
             [
              0.5555555555555556,
              "#d8576b"
             ],
             [
              0.6666666666666666,
              "#ed7953"
             ],
             [
              0.7777777777777778,
              "#fb9f3a"
             ],
             [
              0.8888888888888888,
              "#fdca26"
             ],
             [
              1,
              "#f0f921"
             ]
            ],
            "type": "heatmap"
           }
          ],
          "heatmapgl": [
           {
            "colorbar": {
             "outlinewidth": 0,
             "ticks": ""
            },
            "colorscale": [
             [
              0,
              "#0d0887"
             ],
             [
              0.1111111111111111,
              "#46039f"
             ],
             [
              0.2222222222222222,
              "#7201a8"
             ],
             [
              0.3333333333333333,
              "#9c179e"
             ],
             [
              0.4444444444444444,
              "#bd3786"
             ],
             [
              0.5555555555555556,
              "#d8576b"
             ],
             [
              0.6666666666666666,
              "#ed7953"
             ],
             [
              0.7777777777777778,
              "#fb9f3a"
             ],
             [
              0.8888888888888888,
              "#fdca26"
             ],
             [
              1,
              "#f0f921"
             ]
            ],
            "type": "heatmapgl"
           }
          ],
          "histogram": [
           {
            "marker": {
             "pattern": {
              "fillmode": "overlay",
              "size": 10,
              "solidity": 0.2
             }
            },
            "type": "histogram"
           }
          ],
          "histogram2d": [
           {
            "colorbar": {
             "outlinewidth": 0,
             "ticks": ""
            },
            "colorscale": [
             [
              0,
              "#0d0887"
             ],
             [
              0.1111111111111111,
              "#46039f"
             ],
             [
              0.2222222222222222,
              "#7201a8"
             ],
             [
              0.3333333333333333,
              "#9c179e"
             ],
             [
              0.4444444444444444,
              "#bd3786"
             ],
             [
              0.5555555555555556,
              "#d8576b"
             ],
             [
              0.6666666666666666,
              "#ed7953"
             ],
             [
              0.7777777777777778,
              "#fb9f3a"
             ],
             [
              0.8888888888888888,
              "#fdca26"
             ],
             [
              1,
              "#f0f921"
             ]
            ],
            "type": "histogram2d"
           }
          ],
          "histogram2dcontour": [
           {
            "colorbar": {
             "outlinewidth": 0,
             "ticks": ""
            },
            "colorscale": [
             [
              0,
              "#0d0887"
             ],
             [
              0.1111111111111111,
              "#46039f"
             ],
             [
              0.2222222222222222,
              "#7201a8"
             ],
             [
              0.3333333333333333,
              "#9c179e"
             ],
             [
              0.4444444444444444,
              "#bd3786"
             ],
             [
              0.5555555555555556,
              "#d8576b"
             ],
             [
              0.6666666666666666,
              "#ed7953"
             ],
             [
              0.7777777777777778,
              "#fb9f3a"
             ],
             [
              0.8888888888888888,
              "#fdca26"
             ],
             [
              1,
              "#f0f921"
             ]
            ],
            "type": "histogram2dcontour"
           }
          ],
          "mesh3d": [
           {
            "colorbar": {
             "outlinewidth": 0,
             "ticks": ""
            },
            "type": "mesh3d"
           }
          ],
          "parcoords": [
           {
            "line": {
             "colorbar": {
              "outlinewidth": 0,
              "ticks": ""
             }
            },
            "type": "parcoords"
           }
          ],
          "pie": [
           {
            "automargin": true,
            "type": "pie"
           }
          ],
          "scatter": [
           {
            "fillpattern": {
             "fillmode": "overlay",
             "size": 10,
             "solidity": 0.2
            },
            "type": "scatter"
           }
          ],
          "scatter3d": [
           {
            "line": {
             "colorbar": {
              "outlinewidth": 0,
              "ticks": ""
             }
            },
            "marker": {
             "colorbar": {
              "outlinewidth": 0,
              "ticks": ""
             }
            },
            "type": "scatter3d"
           }
          ],
          "scattercarpet": [
           {
            "marker": {
             "colorbar": {
              "outlinewidth": 0,
              "ticks": ""
             }
            },
            "type": "scattercarpet"
           }
          ],
          "scattergeo": [
           {
            "marker": {
             "colorbar": {
              "outlinewidth": 0,
              "ticks": ""
             }
            },
            "type": "scattergeo"
           }
          ],
          "scattergl": [
           {
            "marker": {
             "colorbar": {
              "outlinewidth": 0,
              "ticks": ""
             }
            },
            "type": "scattergl"
           }
          ],
          "scattermapbox": [
           {
            "marker": {
             "colorbar": {
              "outlinewidth": 0,
              "ticks": ""
             }
            },
            "type": "scattermapbox"
           }
          ],
          "scatterpolar": [
           {
            "marker": {
             "colorbar": {
              "outlinewidth": 0,
              "ticks": ""
             }
            },
            "type": "scatterpolar"
           }
          ],
          "scatterpolargl": [
           {
            "marker": {
             "colorbar": {
              "outlinewidth": 0,
              "ticks": ""
             }
            },
            "type": "scatterpolargl"
           }
          ],
          "scatterternary": [
           {
            "marker": {
             "colorbar": {
              "outlinewidth": 0,
              "ticks": ""
             }
            },
            "type": "scatterternary"
           }
          ],
          "surface": [
           {
            "colorbar": {
             "outlinewidth": 0,
             "ticks": ""
            },
            "colorscale": [
             [
              0,
              "#0d0887"
             ],
             [
              0.1111111111111111,
              "#46039f"
             ],
             [
              0.2222222222222222,
              "#7201a8"
             ],
             [
              0.3333333333333333,
              "#9c179e"
             ],
             [
              0.4444444444444444,
              "#bd3786"
             ],
             [
              0.5555555555555556,
              "#d8576b"
             ],
             [
              0.6666666666666666,
              "#ed7953"
             ],
             [
              0.7777777777777778,
              "#fb9f3a"
             ],
             [
              0.8888888888888888,
              "#fdca26"
             ],
             [
              1,
              "#f0f921"
             ]
            ],
            "type": "surface"
           }
          ],
          "table": [
           {
            "cells": {
             "fill": {
              "color": "#EBF0F8"
             },
             "line": {
              "color": "white"
             }
            },
            "header": {
             "fill": {
              "color": "#C8D4E3"
             },
             "line": {
              "color": "white"
             }
            },
            "type": "table"
           }
          ]
         },
         "layout": {
          "annotationdefaults": {
           "arrowcolor": "#2a3f5f",
           "arrowhead": 0,
           "arrowwidth": 1
          },
          "autotypenumbers": "strict",
          "coloraxis": {
           "colorbar": {
            "outlinewidth": 0,
            "ticks": ""
           }
          },
          "colorscale": {
           "diverging": [
            [
             0,
             "#8e0152"
            ],
            [
             0.1,
             "#c51b7d"
            ],
            [
             0.2,
             "#de77ae"
            ],
            [
             0.3,
             "#f1b6da"
            ],
            [
             0.4,
             "#fde0ef"
            ],
            [
             0.5,
             "#f7f7f7"
            ],
            [
             0.6,
             "#e6f5d0"
            ],
            [
             0.7,
             "#b8e186"
            ],
            [
             0.8,
             "#7fbc41"
            ],
            [
             0.9,
             "#4d9221"
            ],
            [
             1,
             "#276419"
            ]
           ],
           "sequential": [
            [
             0,
             "#0d0887"
            ],
            [
             0.1111111111111111,
             "#46039f"
            ],
            [
             0.2222222222222222,
             "#7201a8"
            ],
            [
             0.3333333333333333,
             "#9c179e"
            ],
            [
             0.4444444444444444,
             "#bd3786"
            ],
            [
             0.5555555555555556,
             "#d8576b"
            ],
            [
             0.6666666666666666,
             "#ed7953"
            ],
            [
             0.7777777777777778,
             "#fb9f3a"
            ],
            [
             0.8888888888888888,
             "#fdca26"
            ],
            [
             1,
             "#f0f921"
            ]
           ],
           "sequentialminus": [
            [
             0,
             "#0d0887"
            ],
            [
             0.1111111111111111,
             "#46039f"
            ],
            [
             0.2222222222222222,
             "#7201a8"
            ],
            [
             0.3333333333333333,
             "#9c179e"
            ],
            [
             0.4444444444444444,
             "#bd3786"
            ],
            [
             0.5555555555555556,
             "#d8576b"
            ],
            [
             0.6666666666666666,
             "#ed7953"
            ],
            [
             0.7777777777777778,
             "#fb9f3a"
            ],
            [
             0.8888888888888888,
             "#fdca26"
            ],
            [
             1,
             "#f0f921"
            ]
           ]
          },
          "colorway": [
           "#636efa",
           "#EF553B",
           "#00cc96",
           "#ab63fa",
           "#FFA15A",
           "#19d3f3",
           "#FF6692",
           "#B6E880",
           "#FF97FF",
           "#FECB52"
          ],
          "font": {
           "color": "#2a3f5f"
          },
          "geo": {
           "bgcolor": "white",
           "lakecolor": "white",
           "landcolor": "#E5ECF6",
           "showlakes": true,
           "showland": true,
           "subunitcolor": "white"
          },
          "hoverlabel": {
           "align": "left"
          },
          "hovermode": "closest",
          "mapbox": {
           "style": "light"
          },
          "paper_bgcolor": "white",
          "plot_bgcolor": "#E5ECF6",
          "polar": {
           "angularaxis": {
            "gridcolor": "white",
            "linecolor": "white",
            "ticks": ""
           },
           "bgcolor": "#E5ECF6",
           "radialaxis": {
            "gridcolor": "white",
            "linecolor": "white",
            "ticks": ""
           }
          },
          "scene": {
           "xaxis": {
            "backgroundcolor": "#E5ECF6",
            "gridcolor": "white",
            "gridwidth": 2,
            "linecolor": "white",
            "showbackground": true,
            "ticks": "",
            "zerolinecolor": "white"
           },
           "yaxis": {
            "backgroundcolor": "#E5ECF6",
            "gridcolor": "white",
            "gridwidth": 2,
            "linecolor": "white",
            "showbackground": true,
            "ticks": "",
            "zerolinecolor": "white"
           },
           "zaxis": {
            "backgroundcolor": "#E5ECF6",
            "gridcolor": "white",
            "gridwidth": 2,
            "linecolor": "white",
            "showbackground": true,
            "ticks": "",
            "zerolinecolor": "white"
           }
          },
          "shapedefaults": {
           "line": {
            "color": "#2a3f5f"
           }
          },
          "ternary": {
           "aaxis": {
            "gridcolor": "white",
            "linecolor": "white",
            "ticks": ""
           },
           "baxis": {
            "gridcolor": "white",
            "linecolor": "white",
            "ticks": ""
           },
           "bgcolor": "#E5ECF6",
           "caxis": {
            "gridcolor": "white",
            "linecolor": "white",
            "ticks": ""
           }
          },
          "title": {
           "x": 0.05
          },
          "xaxis": {
           "automargin": true,
           "gridcolor": "white",
           "linecolor": "white",
           "ticks": "",
           "title": {
            "standoff": 15
           },
           "zerolinecolor": "white",
           "zerolinewidth": 2
          },
          "yaxis": {
           "automargin": true,
           "gridcolor": "white",
           "linecolor": "white",
           "ticks": "",
           "title": {
            "standoff": 15
           },
           "zerolinecolor": "white",
           "zerolinewidth": 2
          }
         }
        }
       }
      }
     },
     "metadata": {},
     "output_type": "display_data"
    }
   ],
   "source": [
    "import pandas as pd\n",
    "import plotly.graph_objs as go\n",
    "import numpy as np  # Import NumPy for noise generation\n",
    "\n",
    "# Load the data into a DataFrame\n",
    "# df = pd.read_csv('data/bhopal_weather_forecast.csv')\n",
    "\n",
    "# Convert the Date column to datetime\n",
    "df['Date'] = pd.to_datetime(df['Date'])\n",
    "\n",
    "# Assuming you have the latitude and longitude for the location\n",
    "# Replace with the actual coordinates\n",
    "# latitude = 23.2599\n",
    "# longitude = 77.4126\n",
    "\n",
    "# Create a data frame with date, latitude, longitude, and temperature\n",
    "data = pd.DataFrame({\n",
    "  'date': df['Date'],\n",
    "  'lat': df['Latitude'],\n",
    "  'lon': df['Longitude'],\n",
    "  'temperature': df['Temperature (°C)']\n",
    "})\n",
    "\n",
    "# Add non-linear noise to temperature (adjust noise_amplitude for effect)\n",
    "noise_amplitude = 15  # Adjust this value to control noise intensity\n",
    "noise = np.random.rand(len(data)) * noise_amplitude - noise_amplitude / 2  # Centered noise\n",
    "data['temperature'] += noise\n",
    "\n",
    "# Create the heatmap trace (similar to previous code)\n",
    "heatmap_trace = go.Densitymapbox(\n",
    "  lat=data['lat'],\n",
    "  lon=data['lon'],\n",
    "  z=data['temperature'],\n",
    "  radius=50,\n",
    "  colorscale='Viridis'\n",
    ")\n",
    "\n",
    "# Create the contour trace\n",
    "contour_trace = go.Contour(\n",
    "  x=data['lon'].unique(),  # Use unique longitude values for grid\n",
    "  y=data['lat'].unique(),  # Use unique latitude values for grid\n",
    "  z=data['temperature'].values.reshape(len(data['lat'].unique()), -1),  # Reshape for contour grid\n",
    "  showscale=False,  # Hide colorbar for contours (optional)\n",
    "  line_smoothing=0.9,  # Adjust smoothing for a smoother look (optional)\n",
    "  colorscale='Bluered'  # Color scale for contours (optional)\n",
    ")\n",
    "\n",
    "# Create the map layout (similar to previous code)\n",
    "map_layout = go.Layout(\n",
    "  mapbox_style='open-street-map',\n",
    "  mapbox_center_lon=longitude,\n",
    "  mapbox_center_lat=latitude,\n",
    "  mapbox_zoom=15,\n",
    "  margin=dict(r=0, l=0, t=0, b=0)\n",
    ")\n",
    "\n",
    "# Combine traces and display the figure\n",
    "fig = go.Figure(data=[heatmap_trace, contour_trace], layout=map_layout)\n",
    "fig.show()\n"
   ]
  },
  {
   "cell_type": "code",
   "execution_count": 32,
   "metadata": {},
   "outputs": [],
   "source": [
    "df['Longitude'] = 77.4126\n",
    "df['Latitude'] = 23.2599"
   ]
  },
  {
   "cell_type": "code",
   "execution_count": 33,
   "metadata": {},
   "outputs": [
    {
     "data": {
      "text/html": [
       "<div>\n",
       "<style scoped>\n",
       "    .dataframe tbody tr th:only-of-type {\n",
       "        vertical-align: middle;\n",
       "    }\n",
       "\n",
       "    .dataframe tbody tr th {\n",
       "        vertical-align: top;\n",
       "    }\n",
       "\n",
       "    .dataframe thead th {\n",
       "        text-align: right;\n",
       "    }\n",
       "</style>\n",
       "<table border=\"1\" class=\"dataframe\">\n",
       "  <thead>\n",
       "    <tr style=\"text-align: right;\">\n",
       "      <th></th>\n",
       "      <th>Date</th>\n",
       "      <th>Temperature (°C)</th>\n",
       "      <th>Humidity (%)</th>\n",
       "      <th>Precipitation (mm)</th>\n",
       "      <th>Wind Speed (m/s)</th>\n",
       "      <th>Wind Direction</th>\n",
       "      <th>Thunderstorm Likelihood</th>\n",
       "      <th>Longitude</th>\n",
       "      <th>Latitude</th>\n",
       "    </tr>\n",
       "  </thead>\n",
       "  <tbody>\n",
       "    <tr>\n",
       "      <th>0</th>\n",
       "      <td>2024-04-29</td>\n",
       "      <td>33.1</td>\n",
       "      <td>29</td>\n",
       "      <td>0.0000</td>\n",
       "      <td>1.8</td>\n",
       "      <td>west</td>\n",
       "      <td>No</td>\n",
       "      <td>77.4126</td>\n",
       "      <td>23.2599</td>\n",
       "    </tr>\n",
       "    <tr>\n",
       "      <th>1</th>\n",
       "      <td>2024-04-30</td>\n",
       "      <td>32.7</td>\n",
       "      <td>27</td>\n",
       "      <td>0.0000</td>\n",
       "      <td>1.9</td>\n",
       "      <td>west-northwest</td>\n",
       "      <td>No</td>\n",
       "      <td>77.4126</td>\n",
       "      <td>23.2599</td>\n",
       "    </tr>\n",
       "    <tr>\n",
       "      <th>2</th>\n",
       "      <td>2024-05-01</td>\n",
       "      <td>30.9</td>\n",
       "      <td>21</td>\n",
       "      <td>0.0000</td>\n",
       "      <td>2.3</td>\n",
       "      <td>west-northwest</td>\n",
       "      <td>No</td>\n",
       "      <td>77.4126</td>\n",
       "      <td>23.2599</td>\n",
       "    </tr>\n",
       "    <tr>\n",
       "      <th>3</th>\n",
       "      <td>2024-05-02</td>\n",
       "      <td>29.7</td>\n",
       "      <td>18</td>\n",
       "      <td>0.0000</td>\n",
       "      <td>1.6</td>\n",
       "      <td>west</td>\n",
       "      <td>No</td>\n",
       "      <td>77.4126</td>\n",
       "      <td>23.2599</td>\n",
       "    </tr>\n",
       "    <tr>\n",
       "      <th>4</th>\n",
       "      <td>2024-05-03</td>\n",
       "      <td>30.9</td>\n",
       "      <td>21</td>\n",
       "      <td>0.0000</td>\n",
       "      <td>1.1</td>\n",
       "      <td>west-northwest</td>\n",
       "      <td>No</td>\n",
       "      <td>77.4126</td>\n",
       "      <td>23.2599</td>\n",
       "    </tr>\n",
       "    <tr>\n",
       "      <th>5</th>\n",
       "      <td>2024-05-04</td>\n",
       "      <td>32.1</td>\n",
       "      <td>18</td>\n",
       "      <td>0.0000</td>\n",
       "      <td>1.6</td>\n",
       "      <td>west</td>\n",
       "      <td>No</td>\n",
       "      <td>77.4126</td>\n",
       "      <td>23.2599</td>\n",
       "    </tr>\n",
       "    <tr>\n",
       "      <th>6</th>\n",
       "      <td>2024-05-05</td>\n",
       "      <td>36.4</td>\n",
       "      <td>20</td>\n",
       "      <td>0.0000</td>\n",
       "      <td>5.6</td>\n",
       "      <td>west-northwest</td>\n",
       "      <td>No</td>\n",
       "      <td>77.4126</td>\n",
       "      <td>23.2599</td>\n",
       "    </tr>\n",
       "    <tr>\n",
       "      <th>7</th>\n",
       "      <td>2024-05-06</td>\n",
       "      <td>36.1</td>\n",
       "      <td>19</td>\n",
       "      <td>0.0000</td>\n",
       "      <td>5.3</td>\n",
       "      <td>west-northwest</td>\n",
       "      <td>No</td>\n",
       "      <td>77.4126</td>\n",
       "      <td>23.2599</td>\n",
       "    </tr>\n",
       "    <tr>\n",
       "      <th>8</th>\n",
       "      <td>2024-05-07</td>\n",
       "      <td>36.0</td>\n",
       "      <td>23</td>\n",
       "      <td>0.4375</td>\n",
       "      <td>5.9</td>\n",
       "      <td>west-northwest</td>\n",
       "      <td>No</td>\n",
       "      <td>77.4126</td>\n",
       "      <td>23.2599</td>\n",
       "    </tr>\n",
       "    <tr>\n",
       "      <th>9</th>\n",
       "      <td>2024-05-08</td>\n",
       "      <td>35.8</td>\n",
       "      <td>22</td>\n",
       "      <td>0.0000</td>\n",
       "      <td>3.3</td>\n",
       "      <td>west-northwest</td>\n",
       "      <td>No</td>\n",
       "      <td>77.4126</td>\n",
       "      <td>23.2599</td>\n",
       "    </tr>\n",
       "    <tr>\n",
       "      <th>10</th>\n",
       "      <td>2024-05-09</td>\n",
       "      <td>34.9</td>\n",
       "      <td>24</td>\n",
       "      <td>0.0000</td>\n",
       "      <td>6.0</td>\n",
       "      <td>west-northwest</td>\n",
       "      <td>No</td>\n",
       "      <td>77.4126</td>\n",
       "      <td>23.2599</td>\n",
       "    </tr>\n",
       "    <tr>\n",
       "      <th>11</th>\n",
       "      <td>2024-05-10</td>\n",
       "      <td>35.1</td>\n",
       "      <td>25</td>\n",
       "      <td>0.0000</td>\n",
       "      <td>7.4</td>\n",
       "      <td>west</td>\n",
       "      <td>No</td>\n",
       "      <td>77.4126</td>\n",
       "      <td>23.2599</td>\n",
       "    </tr>\n",
       "    <tr>\n",
       "      <th>12</th>\n",
       "      <td>2024-05-11</td>\n",
       "      <td>34.9</td>\n",
       "      <td>25</td>\n",
       "      <td>0.0000</td>\n",
       "      <td>5.2</td>\n",
       "      <td>west-northwest</td>\n",
       "      <td>No</td>\n",
       "      <td>77.4126</td>\n",
       "      <td>23.2599</td>\n",
       "    </tr>\n",
       "    <tr>\n",
       "      <th>13</th>\n",
       "      <td>2024-05-12</td>\n",
       "      <td>35.1</td>\n",
       "      <td>23</td>\n",
       "      <td>0.0000</td>\n",
       "      <td>3.8</td>\n",
       "      <td>south-southeast</td>\n",
       "      <td>No</td>\n",
       "      <td>77.4126</td>\n",
       "      <td>23.2599</td>\n",
       "    </tr>\n",
       "    <tr>\n",
       "      <th>14</th>\n",
       "      <td>2024-05-13</td>\n",
       "      <td>36.2</td>\n",
       "      <td>21</td>\n",
       "      <td>0.8125</td>\n",
       "      <td>5.0</td>\n",
       "      <td>west-southwest</td>\n",
       "      <td>No</td>\n",
       "      <td>77.4126</td>\n",
       "      <td>23.2599</td>\n",
       "    </tr>\n",
       "    <tr>\n",
       "      <th>15</th>\n",
       "      <td>2024-05-14</td>\n",
       "      <td>36.2</td>\n",
       "      <td>17</td>\n",
       "      <td>0.0000</td>\n",
       "      <td>4.1</td>\n",
       "      <td>southeast</td>\n",
       "      <td>No</td>\n",
       "      <td>77.4126</td>\n",
       "      <td>23.2599</td>\n",
       "    </tr>\n",
       "  </tbody>\n",
       "</table>\n",
       "</div>"
      ],
      "text/plain": [
       "         Date  Temperature (°C)  Humidity (%)  Precipitation (mm)  \\\n",
       "0  2024-04-29              33.1            29              0.0000   \n",
       "1  2024-04-30              32.7            27              0.0000   \n",
       "2  2024-05-01              30.9            21              0.0000   \n",
       "3  2024-05-02              29.7            18              0.0000   \n",
       "4  2024-05-03              30.9            21              0.0000   \n",
       "5  2024-05-04              32.1            18              0.0000   \n",
       "6  2024-05-05              36.4            20              0.0000   \n",
       "7  2024-05-06              36.1            19              0.0000   \n",
       "8  2024-05-07              36.0            23              0.4375   \n",
       "9  2024-05-08              35.8            22              0.0000   \n",
       "10 2024-05-09              34.9            24              0.0000   \n",
       "11 2024-05-10              35.1            25              0.0000   \n",
       "12 2024-05-11              34.9            25              0.0000   \n",
       "13 2024-05-12              35.1            23              0.0000   \n",
       "14 2024-05-13              36.2            21              0.8125   \n",
       "15 2024-05-14              36.2            17              0.0000   \n",
       "\n",
       "    Wind Speed (m/s)   Wind Direction Thunderstorm Likelihood  Longitude  \\\n",
       "0                1.8             west                      No    77.4126   \n",
       "1                1.9   west-northwest                      No    77.4126   \n",
       "2                2.3   west-northwest                      No    77.4126   \n",
       "3                1.6             west                      No    77.4126   \n",
       "4                1.1   west-northwest                      No    77.4126   \n",
       "5                1.6             west                      No    77.4126   \n",
       "6                5.6   west-northwest                      No    77.4126   \n",
       "7                5.3   west-northwest                      No    77.4126   \n",
       "8                5.9   west-northwest                      No    77.4126   \n",
       "9                3.3   west-northwest                      No    77.4126   \n",
       "10               6.0   west-northwest                      No    77.4126   \n",
       "11               7.4             west                      No    77.4126   \n",
       "12               5.2   west-northwest                      No    77.4126   \n",
       "13               3.8  south-southeast                      No    77.4126   \n",
       "14               5.0   west-southwest                      No    77.4126   \n",
       "15               4.1        southeast                      No    77.4126   \n",
       "\n",
       "    Latitude  \n",
       "0    23.2599  \n",
       "1    23.2599  \n",
       "2    23.2599  \n",
       "3    23.2599  \n",
       "4    23.2599  \n",
       "5    23.2599  \n",
       "6    23.2599  \n",
       "7    23.2599  \n",
       "8    23.2599  \n",
       "9    23.2599  \n",
       "10   23.2599  \n",
       "11   23.2599  \n",
       "12   23.2599  \n",
       "13   23.2599  \n",
       "14   23.2599  \n",
       "15   23.2599  "
      ]
     },
     "execution_count": 33,
     "metadata": {},
     "output_type": "execute_result"
    }
   ],
   "source": [
    "\n",
    "df"
   ]
  },
  {
   "cell_type": "code",
   "execution_count": 54,
   "metadata": {},
   "outputs": [
    {
     "data": {
      "text/html": [
       "<div>\n",
       "<style scoped>\n",
       "    .dataframe tbody tr th:only-of-type {\n",
       "        vertical-align: middle;\n",
       "    }\n",
       "\n",
       "    .dataframe tbody tr th {\n",
       "        vertical-align: top;\n",
       "    }\n",
       "\n",
       "    .dataframe thead th {\n",
       "        text-align: right;\n",
       "    }\n",
       "</style>\n",
       "<table border=\"1\" class=\"dataframe\">\n",
       "  <thead>\n",
       "    <tr style=\"text-align: right;\">\n",
       "      <th></th>\n",
       "      <th>Datetime</th>\n",
       "      <th>Temperature (°C)</th>\n",
       "      <th>Relative Humidity (%)</th>\n",
       "      <th>Precipitation (mm)</th>\n",
       "      <th>Wind Speed (m/s)</th>\n",
       "      <th>Wind Direction (degrees)</th>\n",
       "      <th>Cloud Coverage (%)</th>\n",
       "      <th>Thunderstorm Occurrence</th>\n",
       "      <th>Longitude</th>\n",
       "      <th>Latitude</th>\n",
       "    </tr>\n",
       "  </thead>\n",
       "  <tbody>\n",
       "    <tr>\n",
       "      <th>0</th>\n",
       "      <td>2024-04-29 16:00:00</td>\n",
       "      <td>39.8</td>\n",
       "      <td>15</td>\n",
       "      <td>0.0</td>\n",
       "      <td>4.13</td>\n",
       "      <td>253</td>\n",
       "      <td>0</td>\n",
       "      <td>No</td>\n",
       "      <td>77.4126</td>\n",
       "      <td>23.2599</td>\n",
       "    </tr>\n",
       "    <tr>\n",
       "      <th>1</th>\n",
       "      <td>2024-04-29 17:00:00</td>\n",
       "      <td>38.8</td>\n",
       "      <td>15</td>\n",
       "      <td>0.0</td>\n",
       "      <td>3.58</td>\n",
       "      <td>253</td>\n",
       "      <td>0</td>\n",
       "      <td>No</td>\n",
       "      <td>77.4126</td>\n",
       "      <td>23.2599</td>\n",
       "    </tr>\n",
       "    <tr>\n",
       "      <th>2</th>\n",
       "      <td>2024-04-29 18:00:00</td>\n",
       "      <td>37.5</td>\n",
       "      <td>16</td>\n",
       "      <td>0.0</td>\n",
       "      <td>2.27</td>\n",
       "      <td>248</td>\n",
       "      <td>0</td>\n",
       "      <td>No</td>\n",
       "      <td>77.4126</td>\n",
       "      <td>23.2599</td>\n",
       "    </tr>\n",
       "    <tr>\n",
       "      <th>3</th>\n",
       "      <td>2024-04-29 19:00:00</td>\n",
       "      <td>35.2</td>\n",
       "      <td>20</td>\n",
       "      <td>0.0</td>\n",
       "      <td>1.29</td>\n",
       "      <td>256</td>\n",
       "      <td>60</td>\n",
       "      <td>No</td>\n",
       "      <td>77.4126</td>\n",
       "      <td>23.2599</td>\n",
       "    </tr>\n",
       "    <tr>\n",
       "      <th>4</th>\n",
       "      <td>2024-04-29 20:00:00</td>\n",
       "      <td>33.6</td>\n",
       "      <td>23</td>\n",
       "      <td>0.0</td>\n",
       "      <td>1.26</td>\n",
       "      <td>275</td>\n",
       "      <td>50</td>\n",
       "      <td>No</td>\n",
       "      <td>77.4126</td>\n",
       "      <td>23.2599</td>\n",
       "    </tr>\n",
       "    <tr>\n",
       "      <th>...</th>\n",
       "      <td>...</td>\n",
       "      <td>...</td>\n",
       "      <td>...</td>\n",
       "      <td>...</td>\n",
       "      <td>...</td>\n",
       "      <td>...</td>\n",
       "      <td>...</td>\n",
       "      <td>...</td>\n",
       "      <td>...</td>\n",
       "      <td>...</td>\n",
       "    </tr>\n",
       "    <tr>\n",
       "      <th>235</th>\n",
       "      <td>2024-05-09 11:00:00</td>\n",
       "      <td>35.6</td>\n",
       "      <td>24</td>\n",
       "      <td>0.0</td>\n",
       "      <td>4.48</td>\n",
       "      <td>291</td>\n",
       "      <td>16</td>\n",
       "      <td>No</td>\n",
       "      <td>77.4126</td>\n",
       "      <td>23.2599</td>\n",
       "    </tr>\n",
       "    <tr>\n",
       "      <th>236</th>\n",
       "      <td>2024-05-09 12:00:00</td>\n",
       "      <td>36.4</td>\n",
       "      <td>23</td>\n",
       "      <td>0.0</td>\n",
       "      <td>4.08</td>\n",
       "      <td>291</td>\n",
       "      <td>14</td>\n",
       "      <td>No</td>\n",
       "      <td>77.4126</td>\n",
       "      <td>23.2599</td>\n",
       "    </tr>\n",
       "    <tr>\n",
       "      <th>237</th>\n",
       "      <td>2024-05-09 13:00:00</td>\n",
       "      <td>37.2</td>\n",
       "      <td>21</td>\n",
       "      <td>0.0</td>\n",
       "      <td>3.68</td>\n",
       "      <td>291</td>\n",
       "      <td>12</td>\n",
       "      <td>No</td>\n",
       "      <td>77.4126</td>\n",
       "      <td>23.2599</td>\n",
       "    </tr>\n",
       "    <tr>\n",
       "      <th>238</th>\n",
       "      <td>2024-05-09 14:00:00</td>\n",
       "      <td>38.0</td>\n",
       "      <td>20</td>\n",
       "      <td>0.0</td>\n",
       "      <td>3.27</td>\n",
       "      <td>291</td>\n",
       "      <td>10</td>\n",
       "      <td>No</td>\n",
       "      <td>77.4126</td>\n",
       "      <td>23.2599</td>\n",
       "    </tr>\n",
       "    <tr>\n",
       "      <th>239</th>\n",
       "      <td>2024-05-09 15:00:00</td>\n",
       "      <td>38.9</td>\n",
       "      <td>18</td>\n",
       "      <td>0.0</td>\n",
       "      <td>2.87</td>\n",
       "      <td>292</td>\n",
       "      <td>8</td>\n",
       "      <td>No</td>\n",
       "      <td>77.4126</td>\n",
       "      <td>23.2599</td>\n",
       "    </tr>\n",
       "  </tbody>\n",
       "</table>\n",
       "<p>240 rows × 10 columns</p>\n",
       "</div>"
      ],
      "text/plain": [
       "               Datetime  Temperature (°C)  Relative Humidity (%)  \\\n",
       "0   2024-04-29 16:00:00              39.8                     15   \n",
       "1   2024-04-29 17:00:00              38.8                     15   \n",
       "2   2024-04-29 18:00:00              37.5                     16   \n",
       "3   2024-04-29 19:00:00              35.2                     20   \n",
       "4   2024-04-29 20:00:00              33.6                     23   \n",
       "..                  ...               ...                    ...   \n",
       "235 2024-05-09 11:00:00              35.6                     24   \n",
       "236 2024-05-09 12:00:00              36.4                     23   \n",
       "237 2024-05-09 13:00:00              37.2                     21   \n",
       "238 2024-05-09 14:00:00              38.0                     20   \n",
       "239 2024-05-09 15:00:00              38.9                     18   \n",
       "\n",
       "     Precipitation (mm)  Wind Speed (m/s)  Wind Direction (degrees)  \\\n",
       "0                   0.0              4.13                       253   \n",
       "1                   0.0              3.58                       253   \n",
       "2                   0.0              2.27                       248   \n",
       "3                   0.0              1.29                       256   \n",
       "4                   0.0              1.26                       275   \n",
       "..                  ...               ...                       ...   \n",
       "235                 0.0              4.48                       291   \n",
       "236                 0.0              4.08                       291   \n",
       "237                 0.0              3.68                       291   \n",
       "238                 0.0              3.27                       291   \n",
       "239                 0.0              2.87                       292   \n",
       "\n",
       "     Cloud Coverage (%) Thunderstorm Occurrence  Longitude  Latitude  \n",
       "0                     0                      No    77.4126   23.2599  \n",
       "1                     0                      No    77.4126   23.2599  \n",
       "2                     0                      No    77.4126   23.2599  \n",
       "3                    60                      No    77.4126   23.2599  \n",
       "4                    50                      No    77.4126   23.2599  \n",
       "..                  ...                     ...        ...       ...  \n",
       "235                  16                      No    77.4126   23.2599  \n",
       "236                  14                      No    77.4126   23.2599  \n",
       "237                  12                      No    77.4126   23.2599  \n",
       "238                  10                      No    77.4126   23.2599  \n",
       "239                   8                      No    77.4126   23.2599  \n",
       "\n",
       "[240 rows x 10 columns]"
      ]
     },
     "execution_count": 54,
     "metadata": {},
     "output_type": "execute_result"
    }
   ],
   "source": [
    "# Load data from CSV\n",
    "weather_data = pd.read_csv(r\"C:\\Projs\\COde\\Meteo\\MetP\\data\\bhopal_weather_hourly_10_days.csv\")\n",
    "weather_data['Longitude'] = 77.4126\n",
    "weather_data['Latitude'] = 23.2599\n",
    "weather_data['Datetime'] = pd.to_datetime(weather_data['Datetime'])\n",
    "weather_data"
   ]
  },
  {
   "cell_type": "code",
   "execution_count": 17,
   "metadata": {},
   "outputs": [
    {
     "data": {
      "image/png": "[encoded data removed]",
      "text/plain": [
       "<Figure size 2000x2000 with 2 Axes>"
      ]
     },
     "metadata": {},
     "output_type": "display_data"
    }
   ],
   "source": [
    "import pandas as pd\n",
    "import matplotlib.pyplot as plt\n",
    "import cartopy.crs as ccrs\n",
    "\n",
    "# Load the dataset from the CSV file\n",
    "# df = pd.read_csv('your_dataset.csv')\n",
    "\n",
    "# Extract necessary columns\n",
    "lon = df['Longitude']\n",
    "lat = df['Latitude']\n",
    "temperature = df['Temperature (°C)']\n",
    "precipitation = (df['Precipitation (mm)'] - df['Precipitation (mm)'].min()) / (df['Precipitation (mm)'].max() - df['Precipitation (mm)'].min())\n",
    "\n",
    "# Create a map projection\n",
    "projection = ccrs.PlateCarree()\n",
    "\n",
    "# Plot weather data on a map\n",
    "plt.figure(figsize=(20,20))\n",
    "ax = plt.axes(projection=projection)\n",
    "ax.set_title('Aerial Representation of Weather Parameters')\n",
    "\n",
    "# Scatter plot with weather parameters mapped to visual attributes\n",
    "sc = ax.scatter(lon, lat, c=temperature, s=precipitation*100, cmap='coolwarm', transform=projection)\n",
    "plt.colorbar(sc, label='Temperature (°C)')\n",
    "ax.coastlines()\n",
    "\n",
    "plt.show()\n"
   ]
  },
  {
   "cell_type": "code",
   "execution_count": 44,
   "metadata": {},
   "outputs": [
    {
     "data": {
      "application/vnd.plotly.v1+json": {
       "config": {
        "plotlyServerURL": "https://plot.ly"
       },
       "data": [
        {
         "colorscale": [
          [
           0,
           "#440154"
          ],
          [
           0.1111111111111111,
           "#482878"
          ],
          [
           0.2222222222222222,
           "#3e4989"
          ],
          [
           0.3333333333333333,
           "#31688e"
          ],
          [
           0.4444444444444444,
           "#26828e"
          ],
          [
           0.5555555555555556,
           "#1f9e89"
          ],
          [
           0.6666666666666666,
           "#35b779"
          ],
          [
           0.7777777777777778,
           "#6ece58"
          ],
          [
           0.8888888888888888,
           "#b5de2b"
          ],
          [
           1,
           "#fde725"
          ]
         ],
         "type": "heatmap",
         "x": [
          77.4126,
          77.4126,
          77.4126,
          77.4126,
          77.4126,
          77.4126,
          77.4126,
          77.4126,
          77.4126,
          77.4126,
          77.4126,
          77.4126,
          77.4126,
          77.4126,
          77.4126,
          77.4126,
          77.4126,
          77.4126,
          77.4126,
          77.4126,
          77.4126,
          77.4126,
          77.4126,
          77.4126,
          77.4126,
          77.4126,
          77.4126,
          77.4126,
          77.4126,
          77.4126,
          77.4126,
          77.4126,
          77.4126,
          77.4126,
          77.4126,
          77.4126,
          77.4126,
          77.4126,
          77.4126,
          77.4126,
          77.4126,
          77.4126,
          77.4126,
          77.4126,
          77.4126,
          77.4126,
          77.4126,
          77.4126,
          77.4126,
          77.4126
         ],
         "y": [
          23.2599,
          23.2599,
          23.2599,
          23.2599,
          23.2599,
          23.2599,
          23.2599,
          23.2599,
          23.2599,
          23.2599,
          23.2599,
          23.2599,
          23.2599,
          23.2599,
          23.2599,
          23.2599,
          23.2599,
          23.2599,
          23.2599,
          23.2599,
          23.2599,
          23.2599,
          23.2599,
          23.2599,
          23.2599,
          23.2599,
          23.2599,
          23.2599,
          23.2599,
          23.2599,
          23.2599,
          23.2599,
          23.2599,
          23.2599,
          23.2599,
          23.2599,
          23.2599,
          23.2599,
          23.2599,
          23.2599,
          23.2599,
          23.2599,
          23.2599,
          23.2599,
          23.2599,
          23.2599,
          23.2599,
          23.2599,
          23.2599,
          23.2599
         ],
         "z": [
          [
           null,
           null,
           null,
           null,
           null,
           null,
           null,
           null,
           null,
           null,
           null,
           null,
           null,
           null,
           null,
           null,
           null,
           null,
           null,
           null,
           null,
           null,
           null,
           null,
           null,
           null,
           null,
           null,
           null,
           null,
           null,
           null,
           null,
           null,
           null,
           null,
           null,
           null,
           null,
           null,
           null,
           null,
           null,
           null,
           null,
           null,
           null,
           null,
           null,
           null
          ],
          [
           null,
           null,
           null,
           null,
           null,
           null,
           null,
           null,
           null,
           null,
           null,
           null,
           null,
           null,
           null,
           null,
           null,
           null,
           null,
           null,
           null,
           null,
           null,
           null,
           null,
           null,
           null,
           null,
           null,
           null,
           null,
           null,
           null,
           null,
           null,
           null,
           null,
           null,
           null,
           null,
           null,
           null,
           null,
           null,
           null,
           null,
           null,
           null,
           null,
           null
          ],
          [
           null,
           null,
           null,
           null,
           null,
           null,
           null,
           null,
           null,
           null,
           null,
           null,
           null,
           null,
           null,
           null,
           null,
           null,
           null,
           null,
           null,
           null,
           null,
           null,
           null,
           null,
           null,
           null,
           null,
           null,
           null,
           null,
           null,
           null,
           null,
           null,
           null,
           null,
           null,
           null,
           null,
           null,
           null,
           null,
           null,
           null,
           null,
           null,
           null,
           null
          ],
          [
           null,
           null,
           null,
           null,
           null,
           null,
           null,
           null,
           null,
           null,
           null,
           null,
           null,
           null,
           null,
           null,
           null,
           null,
           null,
           null,
           null,
           null,
           null,
           null,
           null,
           null,
           null,
           null,
           null,
           null,
           null,
           null,
           null,
           null,
           null,
           null,
           null,
           null,
           null,
           null,
           null,
           null,
           null,
           null,
           null,
           null,
           null,
           null,
           null,
           null
          ],
          [
           null,
           null,
           null,
           null,
           null,
           null,
           null,
           null,
           null,
           null,
           null,
           null,
           null,
           null,
           null,
           null,
           null,
           null,
           null,
           null,
           null,
           null,
           null,
           null,
           null,
           null,
           null,
           null,
           null,
           null,
           null,
           null,
           null,
           null,
           null,
           null,
           null,
           null,
           null,
           null,
           null,
           null,
           null,
           null,
           null,
           null,
           null,
           null,
           null,
           null
          ],
          [
           null,
           null,
           null,
           null,
           null,
           null,
           null,
           null,
           null,
           null,
           null,
           null,
           null,
           null,
           null,
           null,
           null,
           null,
           null,
           null,
           null,
           null,
           null,
           null,
           null,
           null,
           null,
           null,
           null,
           null,
           null,
           null,
           null,
           null,
           null,
           null,
           null,
           null,
           null,
           null,
           null,
           null,
           null,
           null,
           null,
           null,
           null,
           null,
           null,
           null
          ],
          [
           null,
           null,
           null,
           null,
           null,
           null,
           null,
           null,
           null,
           null,
           null,
           null,
           null,
           null,
           null,
           null,
           null,
           null,
           null,
           null,
           null,
           null,
           null,
           null,
           null,
           null,
           null,
           null,
           null,
           null,
           null,
           null,
           null,
           null,
           null,
           null,
           null,
           null,
           null,
           null,
           null,
           null,
           null,
           null,
           null,
           null,
           null,
           null,
           null,
           null
          ],
          [
           null,
           null,
           null,
           null,
           null,
           null,
           null,
           null,
           null,
           null,
           null,
           null,
           null,
           null,
           null,
           null,
           null,
           null,
           null,
           null,
           null,
           null,
           null,
           null,
           null,
           null,
           null,
           null,
           null,
           null,
           null,
           null,
           null,
           null,
           null,
           null,
           null,
           null,
           null,
           null,
           null,
           null,
           null,
           null,
           null,
           null,
           null,
           null,
           null,
           null
          ],
          [
           null,
           null,
           null,
           null,
           null,
           null,
           null,
           null,
           null,
           null,
           null,
           null,
           null,
           null,
           null,
           null,
           null,
           null,
           null,
           null,
           null,
           null,
           null,
           null,
           null,
           null,
           null,
           null,
           null,
           null,
           null,
           null,
           null,
           null,
           null,
           null,
           null,
           null,
           null,
           null,
           null,
           null,
           null,
           null,
           null,
           null,
           null,
           null,
           null,
           null
          ],
          [
           null,
           null,
           null,
           null,
           null,
           null,
           null,
           null,
           null,
           null,
           null,
           null,
           null,
           null,
           null,
           null,
           null,
           null,
           null,
           null,
           null,
           null,
           null,
           null,
           null,
           null,
           null,
           null,
           null,
           null,
           null,
           null,
           null,
           null,
           null,
           null,
           null,
           null,
           null,
           null,
           null,
           null,
           null,
           null,
           null,
           null,
           null,
           null,
           null,
           null
          ],
          [
           null,
           null,
           null,
           null,
           null,
           null,
           null,
           null,
           null,
           null,
           null,
           null,
           null,
           null,
           null,
           null,
           null,
           null,
           null,
           null,
           null,
           null,
           null,
           null,
           null,
           null,
           null,
           null,
           null,
           null,
           null,
           null,
           null,
           null,
           null,
           null,
           null,
           null,
           null,
           null,
           null,
           null,
           null,
           null,
           null,
           null,
           null,
           null,
           null,
           null
          ],
          [
           null,
           null,
           null,
           null,
           null,
           null,
           null,
           null,
           null,
           null,
           null,
           null,
           null,
           null,
           null,
           null,
           null,
           null,
           null,
           null,
           null,
           null,
           null,
           null,
           null,
           null,
           null,
           null,
           null,
           null,
           null,
           null,
           null,
           null,
           null,
           null,
           null,
           null,
           null,
           null,
           null,
           null,
           null,
           null,
           null,
           null,
           null,
           null,
           null,
           null
          ],
          [
           null,
           null,
           null,
           null,
           null,
           null,
           null,
           null,
           null,
           null,
           null,
           null,
           null,
           null,
           null,
           null,
           null,
           null,
           null,
           null,
           null,
           null,
           null,
           null,
           null,
           null,
           null,
           null,
           null,
           null,
           null,
           null,
           null,
           null,
           null,
           null,
           null,
           null,
           null,
           null,
           null,
           null,
           null,
           null,
           null,
           null,
           null,
           null,
           null,
           null
          ],
          [
           null,
           null,
           null,
           null,
           null,
           null,
           null,
           null,
           null,
           null,
           null,
           null,
           null,
           null,
           null,
           null,
           null,
           null,
           null,
           null,
           null,
           null,
           null,
           null,
           null,
           null,
           null,
           null,
           null,
           null,
           null,
           null,
           null,
           null,
           null,
           null,
           null,
           null,
           null,
           null,
           null,
           null,
           null,
           null,
           null,
           null,
           null,
           null,
           null,
           null
          ],
          [
           null,
           null,
           null,
           null,
           null,
           null,
           null,
           null,
           null,
           null,
           null,
           null,
           null,
           null,
           null,
           null,
           null,
           null,
           null,
           null,
           null,
           null,
           null,
           null,
           null,
           null,
           null,
           null,
           null,
           null,
           null,
           null,
           null,
           null,
           null,
           null,
           null,
           null,
           null,
           null,
           null,
           null,
           null,
           null,
           null,
           null,
           null,
           null,
           null,
           null
          ],
          [
           null,
           null,
           null,
           null,
           null,
           null,
           null,
           null,
           null,
           null,
           null,
           null,
           null,
           null,
           null,
           null,
           null,
           null,
           null,
           null,
           null,
           null,
           null,
           null,
           null,
           null,
           null,
           null,
           null,
           null,
           null,
           null,
           null,
           null,
           null,
           null,
           null,
           null,
           null,
           null,
           null,
           null,
           null,
           null,
           null,
           null,
           null,
           null,
           null,
           null
          ],
          [
           null,
           null,
           null,
           null,
           null,
           null,
           null,
           null,
           null,
           null,
           null,
           null,
           null,
           null,
           null,
           null,
           null,
           null,
           null,
           null,
           null,
           null,
           null,
           null,
           null,
           null,
           null,
           null,
           null,
           null,
           null,
           null,
           null,
           null,
           null,
           null,
           null,
           null,
           null,
           null,
           null,
           null,
           null,
           null,
           null,
           null,
           null,
           null,
           null,
           null
          ],
          [
           null,
           null,
           null,
           null,
           null,
           null,
           null,
           null,
           null,
           null,
           null,
           null,
           null,
           null,
           null,
           null,
           null,
           null,
           null,
           null,
           null,
           null,
           null,
           null,
           null,
           null,
           null,
           null,
           null,
           null,
           null,
           null,
           null,
           null,
           null,
           null,
           null,
           null,
           null,
           null,
           null,
           null,
           null,
           null,
           null,
           null,
           null,
           null,
           null,
           null
          ],
          [
           null,
           null,
           null,
           null,
           null,
           null,
           null,
           null,
           null,
           null,
           null,
           null,
           null,
           null,
           null,
           null,
           null,
           null,
           null,
           null,
           null,
           null,
           null,
           null,
           null,
           null,
           null,
           null,
           null,
           null,
           null,
           null,
           null,
           null,
           null,
           null,
           null,
           null,
           null,
           null,
           null,
           null,
           null,
           null,
           null,
           null,
           null,
           null,
           null,
           null
          ],
          [
           null,
           null,
           null,
           null,
           null,
           null,
           null,
           null,
           null,
           null,
           null,
           null,
           null,
           null,
           null,
           null,
           null,
           null,
           null,
           null,
           null,
           null,
           null,
           null,
           null,
           null,
           null,
           null,
           null,
           null,
           null,
           null,
           null,
           null,
           null,
           null,
           null,
           null,
           null,
           null,
           null,
           null,
           null,
           null,
           null,
           null,
           null,
           null,
           null,
           null
          ],
          [
           null,
           null,
           null,
           null,
           null,
           null,
           null,
           null,
           null,
           null,
           null,
           null,
           null,
           null,
           null,
           null,
           null,
           null,
           null,
           null,
           null,
           null,
           null,
           null,
           null,
           null,
           null,
           null,
           null,
           null,
           null,
           null,
           null,
           null,
           null,
           null,
           null,
           null,
           null,
           null,
           null,
           null,
           null,
           null,
           null,
           null,
           null,
           null,
           null,
           null
          ],
          [
           null,
           null,
           null,
           null,
           null,
           null,
           null,
           null,
           null,
           null,
           null,
           null,
           null,
           null,
           null,
           null,
           null,
           null,
           null,
           null,
           null,
           null,
           null,
           null,
           null,
           null,
           null,
           null,
           null,
           null,
           null,
           null,
           null,
           null,
           null,
           null,
           null,
           null,
           null,
           null,
           null,
           null,
           null,
           null,
           null,
           null,
           null,
           null,
           null,
           null
          ],
          [
           null,
           null,
           null,
           null,
           null,
           null,
           null,
           null,
           null,
           null,
           null,
           null,
           null,
           null,
           null,
           null,
           null,
           null,
           null,
           null,
           null,
           null,
           null,
           null,
           null,
           null,
           null,
           null,
           null,
           null,
           null,
           null,
           null,
           null,
           null,
           null,
           null,
           null,
           null,
           null,
           null,
           null,
           null,
           null,
           null,
           null,
           null,
           null,
           null,
           null
          ],
          [
           null,
           null,
           null,
           null,
           null,
           null,
           null,
           null,
           null,
           null,
           null,
           null,
           null,
           null,
           null,
           null,
           null,
           null,
           null,
           null,
           null,
           null,
           null,
           null,
           null,
           null,
           null,
           null,
           null,
           null,
           null,
           null,
           null,
           null,
           null,
           null,
           null,
           null,
           null,
           null,
           null,
           null,
           null,
           null,
           null,
           null,
           null,
           null,
           null,
           null
          ],
          [
           null,
           null,
           null,
           null,
           null,
           null,
           null,
           null,
           null,
           null,
           null,
           null,
           null,
           null,
           null,
           null,
           null,
           null,
           null,
           null,
           null,
           null,
           null,
           null,
           null,
           null,
           null,
           null,
           null,
           null,
           null,
           null,
           null,
           null,
           null,
           null,
           null,
           null,
           null,
           null,
           null,
           null,
           null,
           null,
           null,
           null,
           null,
           null,
           null,
           null
          ],
          [
           null,
           null,
           null,
           null,
           null,
           null,
           null,
           null,
           null,
           null,
           null,
           null,
           null,
           null,
           null,
           null,
           null,
           null,
           null,
           null,
           null,
           null,
           null,
           null,
           null,
           null,
           null,
           null,
           null,
           null,
           null,
           null,
           null,
           null,
           null,
           null,
           null,
           null,
           null,
           null,
           null,
           null,
           null,
           null,
           null,
           null,
           null,
           null,
           null,
           null
          ],
          [
           null,
           null,
           null,
           null,
           null,
           null,
           null,
           null,
           null,
           null,
           null,
           null,
           null,
           null,
           null,
           null,
           null,
           null,
           null,
           null,
           null,
           null,
           null,
           null,
           null,
           null,
           null,
           null,
           null,
           null,
           null,
           null,
           null,
           null,
           null,
           null,
           null,
           null,
           null,
           null,
           null,
           null,
           null,
           null,
           null,
           null,
           null,
           null,
           null,
           null
          ],
          [
           null,
           null,
           null,
           null,
           null,
           null,
           null,
           null,
           null,
           null,
           null,
           null,
           null,
           null,
           null,
           null,
           null,
           null,
           null,
           null,
           null,
           null,
           null,
           null,
           null,
           null,
           null,
           null,
           null,
           null,
           null,
           null,
           null,
           null,
           null,
           null,
           null,
           null,
           null,
           null,
           null,
           null,
           null,
           null,
           null,
           null,
           null,
           null,
           null,
           null
          ],
          [
           null,
           null,
           null,
           null,
           null,
           null,
           null,
           null,
           null,
           null,
           null,
           null,
           null,
           null,
           null,
           null,
           null,
           null,
           null,
           null,
           null,
           null,
           null,
           null,
           null,
           null,
           null,
           null,
           null,
           null,
           null,
           null,
           null,
           null,
           null,
           null,
           null,
           null,
           null,
           null,
           null,
           null,
           null,
           null,
           null,
           null,
           null,
           null,
           null,
           null
          ],
          [
           null,
           null,
           null,
           null,
           null,
           null,
           null,
           null,
           null,
           null,
           null,
           null,
           null,
           null,
           null,
           null,
           null,
           null,
           null,
           null,
           null,
           null,
           null,
           null,
           null,
           null,
           null,
           null,
           null,
           null,
           null,
           null,
           null,
           null,
           null,
           null,
           null,
           null,
           null,
           null,
           null,
           null,
           null,
           null,
           null,
           null,
           null,
           null,
           null,
           null
          ],
          [
           null,
           null,
           null,
           null,
           null,
           null,
           null,
           null,
           null,
           null,
           null,
           null,
           null,
           null,
           null,
           null,
           null,
           null,
           null,
           null,
           null,
           null,
           null,
           null,
           null,
           null,
           null,
           null,
           null,
           null,
           null,
           null,
           null,
           null,
           null,
           null,
           null,
           null,
           null,
           null,
           null,
           null,
           null,
           null,
           null,
           null,
           null,
           null,
           null,
           null
          ],
          [
           null,
           null,
           null,
           null,
           null,
           null,
           null,
           null,
           null,
           null,
           null,
           null,
           null,
           null,
           null,
           null,
           null,
           null,
           null,
           null,
           null,
           null,
           null,
           null,
           null,
           null,
           null,
           null,
           null,
           null,
           null,
           null,
           null,
           null,
           null,
           null,
           null,
           null,
           null,
           null,
           null,
           null,
           null,
           null,
           null,
           null,
           null,
           null,
           null,
           null
          ],
          [
           null,
           null,
           null,
           null,
           null,
           null,
           null,
           null,
           null,
           null,
           null,
           null,
           null,
           null,
           null,
           null,
           null,
           null,
           null,
           null,
           null,
           null,
           null,
           null,
           null,
           null,
           null,
           null,
           null,
           null,
           null,
           null,
           null,
           null,
           null,
           null,
           null,
           null,
           null,
           null,
           null,
           null,
           null,
           null,
           null,
           null,
           null,
           null,
           null,
           null
          ],
          [
           null,
           null,
           null,
           null,
           null,
           null,
           null,
           null,
           null,
           null,
           null,
           null,
           null,
           null,
           null,
           null,
           null,
           null,
           null,
           null,
           null,
           null,
           null,
           null,
           null,
           null,
           null,
           null,
           null,
           null,
           null,
           null,
           null,
           null,
           null,
           null,
           null,
           null,
           null,
           null,
           null,
           null,
           null,
           null,
           null,
           null,
           null,
           null,
           null,
           null
          ],
          [
           null,
           null,
           null,
           null,
           null,
           null,
           null,
           null,
           null,
           null,
           null,
           null,
           null,
           null,
           null,
           null,
           null,
           null,
           null,
           null,
           null,
           null,
           null,
           null,
           null,
           null,
           null,
           null,
           null,
           null,
           null,
           null,
           null,
           null,
           null,
           null,
           null,
           null,
           null,
           null,
           null,
           null,
           null,
           null,
           null,
           null,
           null,
           null,
           null,
           null
          ],
          [
           null,
           null,
           null,
           null,
           null,
           null,
           null,
           null,
           null,
           null,
           null,
           null,
           null,
           null,
           null,
           null,
           null,
           null,
           null,
           null,
           null,
           null,
           null,
           null,
           null,
           null,
           null,
           null,
           null,
           null,
           null,
           null,
           null,
           null,
           null,
           null,
           null,
           null,
           null,
           null,
           null,
           null,
           null,
           null,
           null,
           null,
           null,
           null,
           null,
           null
          ],
          [
           null,
           null,
           null,
           null,
           null,
           null,
           null,
           null,
           null,
           null,
           null,
           null,
           null,
           null,
           null,
           null,
           null,
           null,
           null,
           null,
           null,
           null,
           null,
           null,
           null,
           null,
           null,
           null,
           null,
           null,
           null,
           null,
           null,
           null,
           null,
           null,
           null,
           null,
           null,
           null,
           null,
           null,
           null,
           null,
           null,
           null,
           null,
           null,
           null,
           null
          ],
          [
           null,
           null,
           null,
           null,
           null,
           null,
           null,
           null,
           null,
           null,
           null,
           null,
           null,
           null,
           null,
           null,
           null,
           null,
           null,
           null,
           null,
           null,
           null,
           null,
           null,
           null,
           null,
           null,
           null,
           null,
           null,
           null,
           null,
           null,
           null,
           null,
           null,
           null,
           null,
           null,
           null,
           null,
           null,
           null,
           null,
           null,
           null,
           null,
           null,
           null
          ],
          [
           null,
           null,
           null,
           null,
           null,
           null,
           null,
           null,
           null,
           null,
           null,
           null,
           null,
           null,
           null,
           null,
           null,
           null,
           null,
           null,
           null,
           null,
           null,
           null,
           null,
           null,
           null,
           null,
           null,
           null,
           null,
           null,
           null,
           null,
           null,
           null,
           null,
           null,
           null,
           null,
           null,
           null,
           null,
           null,
           null,
           null,
           null,
           null,
           null,
           null
          ],
          [
           null,
           null,
           null,
           null,
           null,
           null,
           null,
           null,
           null,
           null,
           null,
           null,
           null,
           null,
           null,
           null,
           null,
           null,
           null,
           null,
           null,
           null,
           null,
           null,
           null,
           null,
           null,
           null,
           null,
           null,
           null,
           null,
           null,
           null,
           null,
           null,
           null,
           null,
           null,
           null,
           null,
           null,
           null,
           null,
           null,
           null,
           null,
           null,
           null,
           null
          ],
          [
           null,
           null,
           null,
           null,
           null,
           null,
           null,
           null,
           null,
           null,
           null,
           null,
           null,
           null,
           null,
           null,
           null,
           null,
           null,
           null,
           null,
           null,
           null,
           null,
           null,
           null,
           null,
           null,
           null,
           null,
           null,
           null,
           null,
           null,
           null,
           null,
           null,
           null,
           null,
           null,
           null,
           null,
           null,
           null,
           null,
           null,
           null,
           null,
           null,
           null
          ],
          [
           null,
           null,
           null,
           null,
           null,
           null,
           null,
           null,
           null,
           null,
           null,
           null,
           null,
           null,
           null,
           null,
           null,
           null,
           null,
           null,
           null,
           null,
           null,
           null,
           null,
           null,
           null,
           null,
           null,
           null,
           null,
           null,
           null,
           null,
           null,
           null,
           null,
           null,
           null,
           null,
           null,
           null,
           null,
           null,
           null,
           null,
           null,
           null,
           null,
           null
          ],
          [
           null,
           null,
           null,
           null,
           null,
           null,
           null,
           null,
           null,
           null,
           null,
           null,
           null,
           null,
           null,
           null,
           null,
           null,
           null,
           null,
           null,
           null,
           null,
           null,
           null,
           null,
           null,
           null,
           null,
           null,
           null,
           null,
           null,
           null,
           null,
           null,
           null,
           null,
           null,
           null,
           null,
           null,
           null,
           null,
           null,
           null,
           null,
           null,
           null,
           null
          ],
          [
           null,
           null,
           null,
           null,
           null,
           null,
           null,
           null,
           null,
           null,
           null,
           null,
           null,
           null,
           null,
           null,
           null,
           null,
           null,
           null,
           null,
           null,
           null,
           null,
           null,
           null,
           null,
           null,
           null,
           null,
           null,
           null,
           null,
           null,
           null,
           null,
           null,
           null,
           null,
           null,
           null,
           null,
           null,
           null,
           null,
           null,
           null,
           null,
           null,
           null
          ],
          [
           null,
           null,
           null,
           null,
           null,
           null,
           null,
           null,
           null,
           null,
           null,
           null,
           null,
           null,
           null,
           null,
           null,
           null,
           null,
           null,
           null,
           null,
           null,
           null,
           null,
           null,
           null,
           null,
           null,
           null,
           null,
           null,
           null,
           null,
           null,
           null,
           null,
           null,
           null,
           null,
           null,
           null,
           null,
           null,
           null,
           null,
           null,
           null,
           null,
           null
          ],
          [
           null,
           null,
           null,
           null,
           null,
           null,
           null,
           null,
           null,
           null,
           null,
           null,
           null,
           null,
           null,
           null,
           null,
           null,
           null,
           null,
           null,
           null,
           null,
           null,
           null,
           null,
           null,
           null,
           null,
           null,
           null,
           null,
           null,
           null,
           null,
           null,
           null,
           null,
           null,
           null,
           null,
           null,
           null,
           null,
           null,
           null,
           null,
           null,
           null,
           null
          ],
          [
           null,
           null,
           null,
           null,
           null,
           null,
           null,
           null,
           null,
           null,
           null,
           null,
           null,
           null,
           null,
           null,
           null,
           null,
           null,
           null,
           null,
           null,
           null,
           null,
           null,
           null,
           null,
           null,
           null,
           null,
           null,
           null,
           null,
           null,
           null,
           null,
           null,
           null,
           null,
           null,
           null,
           null,
           null,
           null,
           null,
           null,
           null,
           null,
           null,
           null
          ],
          [
           null,
           null,
           null,
           null,
           null,
           null,
           null,
           null,
           null,
           null,
           null,
           null,
           null,
           null,
           null,
           null,
           null,
           null,
           null,
           null,
           null,
           null,
           null,
           null,
           null,
           null,
           null,
           null,
           null,
           null,
           null,
           null,
           null,
           null,
           null,
           null,
           null,
           null,
           null,
           null,
           null,
           null,
           null,
           null,
           null,
           null,
           null,
           null,
           null,
           null
          ],
          [
           null,
           null,
           null,
           null,
           null,
           null,
           null,
           null,
           null,
           null,
           null,
           null,
           null,
           null,
           null,
           null,
           null,
           null,
           null,
           null,
           null,
           null,
           null,
           null,
           null,
           null,
           null,
           null,
           null,
           null,
           null,
           null,
           null,
           null,
           null,
           null,
           null,
           null,
           null,
           null,
           null,
           null,
           null,
           null,
           null,
           null,
           null,
           null,
           null,
           null
          ],
          [
           null,
           null,
           null,
           null,
           null,
           null,
           null,
           null,
           null,
           null,
           null,
           null,
           null,
           null,
           null,
           null,
           null,
           null,
           null,
           null,
           null,
           null,
           null,
           null,
           null,
           null,
           null,
           null,
           null,
           null,
           null,
           null,
           null,
           null,
           null,
           null,
           null,
           null,
           null,
           null,
           null,
           null,
           null,
           null,
           null,
           null,
           null,
           null,
           null,
           null
          ]
         ]
        }
       ],
       "layout": {
        "mapbox": {
         "center": {
          "lat": 23.2599,
          "lon": 77.4126
         },
         "style": "open-street-map",
         "zoom": 1
        },
        "margin": {
         "b": 0,
         "l": 0,
         "r": 0,
         "t": 0
        },
        "template": {
         "data": {
          "bar": [
           {
            "error_x": {
             "color": "#2a3f5f"
            },
            "error_y": {
             "color": "#2a3f5f"
            },
            "marker": {
             "line": {
              "color": "#E5ECF6",
              "width": 0.5
             },
             "pattern": {
              "fillmode": "overlay",
              "size": 10,
              "solidity": 0.2
             }
            },
            "type": "bar"
           }
          ],
          "barpolar": [
           {
            "marker": {
             "line": {
              "color": "#E5ECF6",
              "width": 0.5
             },
             "pattern": {
              "fillmode": "overlay",
              "size": 10,
              "solidity": 0.2
             }
            },
            "type": "barpolar"
           }
          ],
          "carpet": [
           {
            "aaxis": {
             "endlinecolor": "#2a3f5f",
             "gridcolor": "white",
             "linecolor": "white",
             "minorgridcolor": "white",
             "startlinecolor": "#2a3f5f"
            },
            "baxis": {
             "endlinecolor": "#2a3f5f",
             "gridcolor": "white",
             "linecolor": "white",
             "minorgridcolor": "white",
             "startlinecolor": "#2a3f5f"
            },
            "type": "carpet"
           }
          ],
          "choropleth": [
           {
            "colorbar": {
             "outlinewidth": 0,
             "ticks": ""
            },
            "type": "choropleth"
           }
          ],
          "contour": [
           {
            "colorbar": {
             "outlinewidth": 0,
             "ticks": ""
            },
            "colorscale": [
             [
              0,
              "#0d0887"
             ],
             [
              0.1111111111111111,
              "#46039f"
             ],
             [
              0.2222222222222222,
              "#7201a8"
             ],
             [
              0.3333333333333333,
              "#9c179e"
             ],
             [
              0.4444444444444444,
              "#bd3786"
             ],
             [
              0.5555555555555556,
              "#d8576b"
             ],
             [
              0.6666666666666666,
              "#ed7953"
             ],
             [
              0.7777777777777778,
              "#fb9f3a"
             ],
             [
              0.8888888888888888,
              "#fdca26"
             ],
             [
              1,
              "#f0f921"
             ]
            ],
            "type": "contour"
           }
          ],
          "contourcarpet": [
           {
            "colorbar": {
             "outlinewidth": 0,
             "ticks": ""
            },
            "type": "contourcarpet"
           }
          ],
          "heatmap": [
           {
            "colorbar": {
             "outlinewidth": 0,
             "ticks": ""
            },
            "colorscale": [
             [
              0,
              "#0d0887"
             ],
             [
              0.1111111111111111,
              "#46039f"
             ],
             [
              0.2222222222222222,
              "#7201a8"
             ],
             [
              0.3333333333333333,
              "#9c179e"
             ],
             [
              0.4444444444444444,
              "#bd3786"
             ],
             [
              0.5555555555555556,
              "#d8576b"
             ],
             [
              0.6666666666666666,
              "#ed7953"
             ],
             [
              0.7777777777777778,
              "#fb9f3a"
             ],
             [
              0.8888888888888888,
              "#fdca26"
             ],
             [
              1,
              "#f0f921"
             ]
            ],
            "type": "heatmap"
           }
          ],
          "heatmapgl": [
           {
            "colorbar": {
             "outlinewidth": 0,
             "ticks": ""
            },
            "colorscale": [
             [
              0,
              "#0d0887"
             ],
             [
              0.1111111111111111,
              "#46039f"
             ],
             [
              0.2222222222222222,
              "#7201a8"
             ],
             [
              0.3333333333333333,
              "#9c179e"
             ],
             [
              0.4444444444444444,
              "#bd3786"
             ],
             [
              0.5555555555555556,
              "#d8576b"
             ],
             [
              0.6666666666666666,
              "#ed7953"
             ],
             [
              0.7777777777777778,
              "#fb9f3a"
             ],
             [
              0.8888888888888888,
              "#fdca26"
             ],
             [
              1,
              "#f0f921"
             ]
            ],
            "type": "heatmapgl"
           }
          ],
          "histogram": [
           {
            "marker": {
             "pattern": {
              "fillmode": "overlay",
              "size": 10,
              "solidity": 0.2
             }
            },
            "type": "histogram"
           }
          ],
          "histogram2d": [
           {
            "colorbar": {
             "outlinewidth": 0,
             "ticks": ""
            },
            "colorscale": [
             [
              0,
              "#0d0887"
             ],
             [
              0.1111111111111111,
              "#46039f"
             ],
             [
              0.2222222222222222,
              "#7201a8"
             ],
             [
              0.3333333333333333,
              "#9c179e"
             ],
             [
              0.4444444444444444,
              "#bd3786"
             ],
             [
              0.5555555555555556,
              "#d8576b"
             ],
             [
              0.6666666666666666,
              "#ed7953"
             ],
             [
              0.7777777777777778,
              "#fb9f3a"
             ],
             [
              0.8888888888888888,
              "#fdca26"
             ],
             [
              1,
              "#f0f921"
             ]
            ],
            "type": "histogram2d"
           }
          ],
          "histogram2dcontour": [
           {
            "colorbar": {
             "outlinewidth": 0,
             "ticks": ""
            },
            "colorscale": [
             [
              0,
              "#0d0887"
             ],
             [
              0.1111111111111111,
              "#46039f"
             ],
             [
              0.2222222222222222,
              "#7201a8"
             ],
             [
              0.3333333333333333,
              "#9c179e"
             ],
             [
              0.4444444444444444,
              "#bd3786"
             ],
             [
              0.5555555555555556,
              "#d8576b"
             ],
             [
              0.6666666666666666,
              "#ed7953"
             ],
             [
              0.7777777777777778,
              "#fb9f3a"
             ],
             [
              0.8888888888888888,
              "#fdca26"
             ],
             [
              1,
              "#f0f921"
             ]
            ],
            "type": "histogram2dcontour"
           }
          ],
          "mesh3d": [
           {
            "colorbar": {
             "outlinewidth": 0,
             "ticks": ""
            },
            "type": "mesh3d"
           }
          ],
          "parcoords": [
           {
            "line": {
             "colorbar": {
              "outlinewidth": 0,
              "ticks": ""
             }
            },
            "type": "parcoords"
           }
          ],
          "pie": [
           {
            "automargin": true,
            "type": "pie"
           }
          ],
          "scatter": [
           {
            "fillpattern": {
             "fillmode": "overlay",
             "size": 10,
             "solidity": 0.2
            },
            "type": "scatter"
           }
          ],
          "scatter3d": [
           {
            "line": {
             "colorbar": {
              "outlinewidth": 0,
              "ticks": ""
             }
            },
            "marker": {
             "colorbar": {
              "outlinewidth": 0,
              "ticks": ""
             }
            },
            "type": "scatter3d"
           }
          ],
          "scattercarpet": [
           {
            "marker": {
             "colorbar": {
              "outlinewidth": 0,
              "ticks": ""
             }
            },
            "type": "scattercarpet"
           }
          ],
          "scattergeo": [
           {
            "marker": {
             "colorbar": {
              "outlinewidth": 0,
              "ticks": ""
             }
            },
            "type": "scattergeo"
           }
          ],
          "scattergl": [
           {
            "marker": {
             "colorbar": {
              "outlinewidth": 0,
              "ticks": ""
             }
            },
            "type": "scattergl"
           }
          ],
          "scattermapbox": [
           {
            "marker": {
             "colorbar": {
              "outlinewidth": 0,
              "ticks": ""
             }
            },
            "type": "scattermapbox"
           }
          ],
          "scatterpolar": [
           {
            "marker": {
             "colorbar": {
              "outlinewidth": 0,
              "ticks": ""
             }
            },
            "type": "scatterpolar"
           }
          ],
          "scatterpolargl": [
           {
            "marker": {
             "colorbar": {
              "outlinewidth": 0,
              "ticks": ""
             }
            },
            "type": "scatterpolargl"
           }
          ],
          "scatterternary": [
           {
            "marker": {
             "colorbar": {
              "outlinewidth": 0,
              "ticks": ""
             }
            },
            "type": "scatterternary"
           }
          ],
          "surface": [
           {
            "colorbar": {
             "outlinewidth": 0,
             "ticks": ""
            },
            "colorscale": [
             [
              0,
              "#0d0887"
             ],
             [
              0.1111111111111111,
              "#46039f"
             ],
             [
              0.2222222222222222,
              "#7201a8"
             ],
             [
              0.3333333333333333,
              "#9c179e"
             ],
             [
              0.4444444444444444,
              "#bd3786"
             ],
             [
              0.5555555555555556,
              "#d8576b"
             ],
             [
              0.6666666666666666,
              "#ed7953"
             ],
             [
              0.7777777777777778,
              "#fb9f3a"
             ],
             [
              0.8888888888888888,
              "#fdca26"
             ],
             [
              1,
              "#f0f921"
             ]
            ],
            "type": "surface"
           }
          ],
          "table": [
           {
            "cells": {
             "fill": {
              "color": "#EBF0F8"
             },
             "line": {
              "color": "white"
             }
            },
            "header": {
             "fill": {
              "color": "#C8D4E3"
             },
             "line": {
              "color": "white"
             }
            },
            "type": "table"
           }
          ]
         },
         "layout": {
          "annotationdefaults": {
           "arrowcolor": "#2a3f5f",
           "arrowhead": 0,
           "arrowwidth": 1
          },
          "autotypenumbers": "strict",
          "coloraxis": {
           "colorbar": {
            "outlinewidth": 0,
            "ticks": ""
           }
          },
          "colorscale": {
           "diverging": [
            [
             0,
             "#8e0152"
            ],
            [
             0.1,
             "#c51b7d"
            ],
            [
             0.2,
             "#de77ae"
            ],
            [
             0.3,
             "#f1b6da"
            ],
            [
             0.4,
             "#fde0ef"
            ],
            [
             0.5,
             "#f7f7f7"
            ],
            [
             0.6,
             "#e6f5d0"
            ],
            [
             0.7,
             "#b8e186"
            ],
            [
             0.8,
             "#7fbc41"
            ],
            [
             0.9,
             "#4d9221"
            ],
            [
             1,
             "#276419"
            ]
           ],
           "sequential": [
            [
             0,
             "#0d0887"
            ],
            [
             0.1111111111111111,
             "#46039f"
            ],
            [
             0.2222222222222222,
             "#7201a8"
            ],
            [
             0.3333333333333333,
             "#9c179e"
            ],
            [
             0.4444444444444444,
             "#bd3786"
            ],
            [
             0.5555555555555556,
             "#d8576b"
            ],
            [
             0.6666666666666666,
             "#ed7953"
            ],
            [
             0.7777777777777778,
             "#fb9f3a"
            ],
            [
             0.8888888888888888,
             "#fdca26"
            ],
            [
             1,
             "#f0f921"
            ]
           ],
           "sequentialminus": [
            [
             0,
             "#0d0887"
            ],
            [
             0.1111111111111111,
             "#46039f"
            ],
            [
             0.2222222222222222,
             "#7201a8"
            ],
            [
             0.3333333333333333,
             "#9c179e"
            ],
            [
             0.4444444444444444,
             "#bd3786"
            ],
            [
             0.5555555555555556,
             "#d8576b"
            ],
            [
             0.6666666666666666,
             "#ed7953"
            ],
            [
             0.7777777777777778,
             "#fb9f3a"
            ],
            [
             0.8888888888888888,
             "#fdca26"
            ],
            [
             1,
             "#f0f921"
            ]
           ]
          },
          "colorway": [
           "#636efa",
           "#EF553B",
           "#00cc96",
           "#ab63fa",
           "#FFA15A",
           "#19d3f3",
           "#FF6692",
           "#B6E880",
           "#FF97FF",
           "#FECB52"
          ],
          "font": {
           "color": "#2a3f5f"
          },
          "geo": {
           "bgcolor": "white",
           "lakecolor": "white",
           "landcolor": "#E5ECF6",
           "showlakes": true,
           "showland": true,
           "subunitcolor": "white"
          },
          "hoverlabel": {
           "align": "left"
          },
          "hovermode": "closest",
          "mapbox": {
           "style": "light"
          },
          "paper_bgcolor": "white",
          "plot_bgcolor": "#E5ECF6",
          "polar": {
           "angularaxis": {
            "gridcolor": "white",
            "linecolor": "white",
            "ticks": ""
           },
           "bgcolor": "#E5ECF6",
           "radialaxis": {
            "gridcolor": "white",
            "linecolor": "white",
            "ticks": ""
           }
          },
          "scene": {
           "xaxis": {
            "backgroundcolor": "#E5ECF6",
            "gridcolor": "white",
            "gridwidth": 2,
            "linecolor": "white",
            "showbackground": true,
            "ticks": "",
            "zerolinecolor": "white"
           },
           "yaxis": {
            "backgroundcolor": "#E5ECF6",
            "gridcolor": "white",
            "gridwidth": 2,
            "linecolor": "white",
            "showbackground": true,
            "ticks": "",
            "zerolinecolor": "white"
           },
           "zaxis": {
            "backgroundcolor": "#E5ECF6",
            "gridcolor": "white",
            "gridwidth": 2,
            "linecolor": "white",
            "showbackground": true,
            "ticks": "",
            "zerolinecolor": "white"
           }
          },
          "shapedefaults": {
           "line": {
            "color": "#2a3f5f"
           }
          },
          "ternary": {
           "aaxis": {
            "gridcolor": "white",
            "linecolor": "white",
            "ticks": ""
           },
           "baxis": {
            "gridcolor": "white",
            "linecolor": "white",
            "ticks": ""
           },
           "bgcolor": "#E5ECF6",
           "caxis": {
            "gridcolor": "white",
            "linecolor": "white",
            "ticks": ""
           }
          },
          "title": {
           "x": 0.05
          },
          "xaxis": {
           "automargin": true,
           "gridcolor": "white",
           "linecolor": "white",
           "ticks": "",
           "title": {
            "standoff": 15
           },
           "zerolinecolor": "white",
           "zerolinewidth": 2
          },
          "yaxis": {
           "automargin": true,
           "gridcolor": "white",
           "linecolor": "white",
           "ticks": "",
           "title": {
            "standoff": 15
           },
           "zerolinecolor": "white",
           "zerolinewidth": 2
          }
         }
        }
       }
      }
     },
     "metadata": {},
     "output_type": "display_data"
    }
   ],
   "source": [
    "import pandas as pd\n",
    "import plotly.graph_objs as go\n",
    "import numpy as np\n",
    "\n",
    "# Load the data into a DataFrame (replace with your data loading logic)\n",
    "# df = pd.read_csv('data/bhopal_weather_forecast.csv')\n",
    "\n",
    "# Assuming you have the latitude and longitude for the location\n",
    "# Replace with the actual coordinates\n",
    "latitude = 23.2599\n",
    "longitude = 77.4126\n",
    "\n",
    "# Create a data frame with date, latitude, longitude, and temperature\n",
    "data = pd.DataFrame({\n",
    "  'date': df['Date'],  # Replace with the actual column name for date\n",
    "  'lat': df['Latitude'],  # Replace with the actual column name for latitude\n",
    "  'lon': df['Longitude'],  # Replace with the actual column name for longitude\n",
    "  'temperature': df['Temperature (°C)']  # Replace with the actual column name for temperature\n",
    "})\n",
    "\n",
    "# Add non-linear noise to temperature (adjust noise_amplitude for effect)\n",
    "noise_amplitude = 15  # Adjust this value to control noise intensity\n",
    "noise = np.random.rand(len(data)) * noise_amplitude - noise_amplitude / 2  # Centered noise\n",
    "data['temperature'] += noise\n",
    "\n",
    "# Define grid parameters (adjust as needed)\n",
    "grid_size = 50\n",
    "lon_min, lon_max = data['lon'].min(), data['lon'].max()\n",
    "lat_min, lat_max = data['lat'].min(), data['lat'].max()\n",
    "lons, lats = np.linspace(lon_min, lon_max, grid_size), np.linspace(lat_min, lat_max, grid_size)\n",
    "\n",
    "\n",
    "\n",
    "def estimate_density_idw(data, power=2):\n",
    "  \"\"\"\n",
    "  Estimates density using Inverse Distance Weighting (IDW).\n",
    "\n",
    "  Args:\n",
    "      data (pd.DataFrame): DataFrame containing latitude, longitude, and temperature data.\n",
    "      power (int, optional): Power parameter for IDW weighting. Defaults to 2.\n",
    "\n",
    "  Returns:\n",
    "      np.ndarray: A 2D array containing the estimated density at each grid point.\n",
    "  \"\"\"\n",
    "\n",
    "  # Create an empty density grid\n",
    "  density_grid = np.zeros((grid_size, grid_size))\n",
    "\n",
    "  # Iterate through each grid point\n",
    "  for i in range(grid_size):\n",
    "    for j in range(grid_size):\n",
    "      lon, lat = lons[j], lats[i]\n",
    "\n",
    "      # Calculate distances to data points\n",
    "      distances = np.sqrt(((data['lon'] - lon) ** 2) + ((data['lat'] - lat) ** 2))\n",
    "\n",
    "      # Apply IDW weighting\n",
    "      weights = 1 / (distances**power)\n",
    "\n",
    "      # Normalize weights (optional)\n",
    "      weights /= weights.sum()\n",
    "\n",
    "      # Calculate weighted average temperature\n",
    "      density_grid[i, j] = np.average(data['temperature'], weights=weights)\n",
    "\n",
    "  return density_grid\n",
    "# print(lons)\n",
    "# Create the heatmap trace using IDW estimated density\n",
    "heatmap_trace = go.Heatmap(\n",
    "  x=lons,\n",
    "  y=lats,\n",
    "  z=estimate_density_idw(data),\n",
    "  colorscale='Viridis'\n",
    ")\n",
    "\n",
    "# Create the map layout\n",
    "map_layout = go.Layout(\n",
    "  mapbox_style='open-street-map',\n",
    "  mapbox_center_lon=longitude,\n",
    "  mapbox_center_lat=latitude,\n",
    "  mapbox_zoom=1,\n",
    "  margin=dict(r=0, l=0, t=0, b=0)\n",
    ")\n",
    "\n",
    "# Combine traces and display the figure\n",
    "fig = go.Figure(data=[heatmap_trace], layout=map_layout)\n",
    "fig.show()\n"
   ]
  },
  {
   "cell_type": "code",
   "execution_count": 56,
   "metadata": {},
   "outputs": [
    {
     "ename": "ValueError",
     "evalue": "Invalid property specified for object of type plotly.graph_objs.Contour: 'levels'\n\nDid you mean \"legend\"?\n\n    Valid properties:\n        autocolorscale\n            Determines whether the colorscale is a default palette\n            (`autocolorscale: true`) or the palette determined by\n            `colorscale`. In case `colorscale` is unspecified or\n            `autocolorscale` is true, the default palette will be\n            chosen according to whether numbers in the `color`\n            array are all positive, all negative or mixed.\n        autocontour\n            Determines whether or not the contour level attributes\n            are picked by an algorithm. If True, the number of\n            contour levels can be set in `ncontours`. If False, set\n            the contour level attributes in `contours`.\n        coloraxis\n            Sets a reference to a shared color axis. References to\n            these shared color axes are \"coloraxis\", \"coloraxis2\",\n            \"coloraxis3\", etc. Settings for these shared color axes\n            are set in the layout, under `layout.coloraxis`,\n            `layout.coloraxis2`, etc. Note that multiple color\n            scales can be linked to the same color axis.\n        colorbar\n            :class:`plotly.graph_objects.contour.ColorBar` instance\n            or dict with compatible properties\n        colorscale\n            Sets the colorscale. The colorscale must be an array\n            containing arrays mapping a normalized value to an rgb,\n            rgba, hex, hsl, hsv, or named color string. At minimum,\n            a mapping for the lowest (0) and highest (1) values are\n            required. For example, `[[0, 'rgb(0,0,255)'], [1,\n            'rgb(255,0,0)']]`. To control the bounds of the\n            colorscale in color space, use `zmin` and `zmax`.\n            Alternatively, `colorscale` may be a palette name\n            string of the following list: Blackbody,Bluered,Blues,C\n            ividis,Earth,Electric,Greens,Greys,Hot,Jet,Picnic,Portl\n            and,Rainbow,RdBu,Reds,Viridis,YlGnBu,YlOrRd.\n        connectgaps\n            Determines whether or not gaps (i.e. {nan} or missing\n            values) in the `z` data are filled in. It is defaulted\n            to true if `z` is a one dimensional array otherwise it\n            is defaulted to false.\n        contours\n            :class:`plotly.graph_objects.contour.Contours` instance\n            or dict with compatible properties\n        customdata\n            Assigns extra data each datum. This may be useful when\n            listening to hover, click and selection events. Note\n            that, \"scatter\" traces also appends customdata items in\n            the markers DOM elements\n        customdatasrc\n            Sets the source reference on Chart Studio Cloud for\n            `customdata`.\n        dx\n            Sets the x coordinate step. See `x0` for more info.\n        dy\n            Sets the y coordinate step. See `y0` for more info.\n        fillcolor\n            Sets the fill color if `contours.type` is \"constraint\".\n            Defaults to a half-transparent variant of the line\n            color, marker color, or marker line color, whichever is\n            available.\n        hoverinfo\n            Determines which trace information appear on hover. If\n            `none` or `skip` are set, no information is displayed\n            upon hovering. But, if `none` is set, click and hover\n            events are still fired.\n        hoverinfosrc\n            Sets the source reference on Chart Studio Cloud for\n            `hoverinfo`.\n        hoverlabel\n            :class:`plotly.graph_objects.contour.Hoverlabel`\n            instance or dict with compatible properties\n        hoverongaps\n            Determines whether or not gaps (i.e. {nan} or missing\n            values) in the `z` data have hover labels associated\n            with them.\n        hovertemplate\n            Template string used for rendering the information that\n            appear on hover box. Note that this will override\n            `hoverinfo`. Variables are inserted using %{variable},\n            for example \"y: %{y}\" as well as %{xother}, {%_xother},\n            {%_xother_}, {%xother_}. When showing info for several\n            points, \"xother\" will be added to those with different\n            x positions from the first point. An underscore before\n            or after \"(x|y)other\" will add a space on that side,\n            only when this field is shown. Numbers are formatted\n            using d3-format's syntax %{variable:d3-format}, for\n            example \"Price: %{y:$.2f}\".\n            https://github.com/d3/d3-format/tree/v1.4.5#d3-format\n            for details on the formatting syntax. Dates are\n            formatted using d3-time-format's syntax\n            %{variable|d3-time-format}, for example \"Day:\n            %{2019-01-01|%A}\". https://github.com/d3/d3-time-\n            format/tree/v2.2.3#locale_format for details on the\n            date formatting syntax. The variables available in\n            `hovertemplate` are the ones emitted as event data\n            described at this link\n            https://plotly.com/javascript/plotlyjs-events/#event-\n            data. Additionally, every attributes that can be\n            specified per-point (the ones that are `arrayOk: true`)\n            are available.  Anything contained in tag `<extra>` is\n            displayed in the secondary box, for example\n            \"<extra>{fullData.name}</extra>\". To hide the secondary\n            box completely, use an empty tag `<extra></extra>`.\n        hovertemplatesrc\n            Sets the source reference on Chart Studio Cloud for\n            `hovertemplate`.\n        hovertext\n            Same as `text`.\n        hovertextsrc\n            Sets the source reference on Chart Studio Cloud for\n            `hovertext`.\n        ids\n            Assigns id labels to each datum. These ids for object\n            constancy of data points during animation. Should be an\n            array of strings, not numbers or any other type.\n        idssrc\n            Sets the source reference on Chart Studio Cloud for\n            `ids`.\n        legend\n            Sets the reference to a legend to show this trace in.\n            References to these legends are \"legend\", \"legend2\",\n            \"legend3\", etc. Settings for these legends are set in\n            the layout, under `layout.legend`, `layout.legend2`,\n            etc.\n        legendgroup\n            Sets the legend group for this trace. Traces and shapes\n            part of the same legend group hide/show at the same\n            time when toggling legend items.\n        legendgrouptitle\n            :class:`plotly.graph_objects.contour.Legendgrouptitle`\n            instance or dict with compatible properties\n        legendrank\n            Sets the legend rank for this trace. Items and groups\n            with smaller ranks are presented on top/left side while\n            with \"reversed\" `legend.traceorder` they are on\n            bottom/right side. The default legendrank is 1000, so\n            that you can use ranks less than 1000 to place certain\n            items before all unranked items, and ranks greater than\n            1000 to go after all unranked items. When having\n            unranked or equal rank items shapes would be displayed\n            after traces i.e. according to their order in data and\n            layout.\n        legendwidth\n            Sets the width (in px or fraction) of the legend for\n            this trace.\n        line\n            :class:`plotly.graph_objects.contour.Line` instance or\n            dict with compatible properties\n        meta\n            Assigns extra meta information associated with this\n            trace that can be used in various text attributes.\n            Attributes such as trace `name`, graph, axis and\n            colorbar `title.text`, annotation `text`\n            `rangeselector`, `updatemenues` and `sliders` `label`\n            text all support `meta`. To access the trace `meta`\n            values in an attribute in the same trace, simply use\n            `%{meta[i]}` where `i` is the index or key of the\n            `meta` item in question. To access trace `meta` in\n            layout attributes, use `%{data[n[.meta[i]}` where `i`\n            is the index or key of the `meta` and `n` is the trace\n            index.\n        metasrc\n            Sets the source reference on Chart Studio Cloud for\n            `meta`.\n        name\n            Sets the trace name. The trace name appears as the\n            legend item and on hover.\n        ncontours\n            Sets the maximum number of contour levels. The actual\n            number of contours will be chosen automatically to be\n            less than or equal to the value of `ncontours`. Has an\n            effect only if `autocontour` is True or if\n            `contours.size` is missing.\n        opacity\n            Sets the opacity of the trace.\n        reversescale\n            Reverses the color mapping if true. If true, `zmin`\n            will correspond to the last color in the array and\n            `zmax` will correspond to the first color.\n        showlegend\n            Determines whether or not an item corresponding to this\n            trace is shown in the legend.\n        showscale\n            Determines whether or not a colorbar is displayed for\n            this trace.\n        stream\n            :class:`plotly.graph_objects.contour.Stream` instance\n            or dict with compatible properties\n        text\n            Sets the text elements associated with each z value.\n        textfont\n            For this trace it only has an effect if `coloring` is\n            set to \"heatmap\". Sets the text font.\n        textsrc\n            Sets the source reference on Chart Studio Cloud for\n            `text`.\n        texttemplate\n            For this trace it only has an effect if `coloring` is\n            set to \"heatmap\". Template string used for rendering\n            the information text that appear on points. Note that\n            this will override `textinfo`. Variables are inserted\n            using %{variable}, for example \"y: %{y}\". Numbers are\n            formatted using d3-format's syntax\n            %{variable:d3-format}, for example \"Price: %{y:$.2f}\".\n            https://github.com/d3/d3-format/tree/v1.4.5#d3-format\n            for details on the formatting syntax. Dates are\n            formatted using d3-time-format's syntax\n            %{variable|d3-time-format}, for example \"Day:\n            %{2019-01-01|%A}\". https://github.com/d3/d3-time-\n            format/tree/v2.2.3#locale_format for details on the\n            date formatting syntax. Every attributes that can be\n            specified per-point (the ones that are `arrayOk: true`)\n            are available. Finally, the template string has access\n            to variables `x`, `y`, `z` and `text`.\n        transpose\n            Transposes the z data.\n        uid\n            Assign an id to this trace, Use this to provide object\n            constancy between traces during animations and\n            transitions.\n        uirevision\n            Controls persistence of some user-driven changes to the\n            trace: `constraintrange` in `parcoords` traces, as well\n            as some `editable: true` modifications such as `name`\n            and `colorbar.title`. Defaults to `layout.uirevision`.\n            Note that other user-driven trace attribute changes are\n            controlled by `layout` attributes: `trace.visible` is\n            controlled by `layout.legend.uirevision`,\n            `selectedpoints` is controlled by\n            `layout.selectionrevision`, and `colorbar.(x|y)`\n            (accessible with `config: {editable: true}`) is\n            controlled by `layout.editrevision`. Trace changes are\n            tracked by `uid`, which only falls back on trace index\n            if no `uid` is provided. So if your app can add/remove\n            traces before the end of the `data` array, such that\n            the same trace has a different index, you can still\n            preserve user-driven changes if you give each trace a\n            `uid` that stays with it as it moves.\n        visible\n            Determines whether or not this trace is visible. If\n            \"legendonly\", the trace is not drawn, but can appear as\n            a legend item (provided that the legend itself is\n            visible).\n        x\n            Sets the x coordinates.\n        x0\n            Alternate to `x`. Builds a linear space of x\n            coordinates. Use with `dx` where `x0` is the starting\n            coordinate and `dx` the step.\n        xaxis\n            Sets a reference between this trace's x coordinates and\n            a 2D cartesian x axis. If \"x\" (the default value), the\n            x coordinates refer to `layout.xaxis`. If \"x2\", the x\n            coordinates refer to `layout.xaxis2`, and so on.\n        xcalendar\n            Sets the calendar system to use with `x` date data.\n        xhoverformat\n            Sets the hover text formatting rulefor `x`  using d3\n            formatting mini-languages which are very similar to\n            those in Python. For numbers, see:\n            https://github.com/d3/d3-format/tree/v1.4.5#d3-format.\n            And for dates see: https://github.com/d3/d3-time-\n            format/tree/v2.2.3#locale_format. We add two items to\n            d3's date formatter: \"%h\" for half of the year as a\n            decimal number as well as \"%{n}f\" for fractional\n            seconds with n digits. For example, *2016-10-13\n            09:15:23.456* with tickformat \"%H~%M~%S.%2f\" would\n            display *09~15~23.46*By default the values are\n            formatted using `xaxis.hoverformat`.\n        xperiod\n            Only relevant when the axis `type` is \"date\". Sets the\n            period positioning in milliseconds or \"M<n>\" on the x\n            axis. Special values in the form of \"M<n>\" could be\n            used to declare the number of months. In this case `n`\n            must be a positive integer.\n        xperiod0\n            Only relevant when the axis `type` is \"date\". Sets the\n            base for period positioning in milliseconds or date\n            string on the x0 axis. When `x0period` is round number\n            of weeks, the `x0period0` by default would be on a\n            Sunday i.e. 2000-01-02, otherwise it would be at\n            2000-01-01.\n        xperiodalignment\n            Only relevant when the axis `type` is \"date\". Sets the\n            alignment of data points on the x axis.\n        xsrc\n            Sets the source reference on Chart Studio Cloud for\n            `x`.\n        xtype\n            If \"array\", the heatmap's x coordinates are given by\n            \"x\" (the default behavior when `x` is provided). If\n            \"scaled\", the heatmap's x coordinates are given by \"x0\"\n            and \"dx\" (the default behavior when `x` is not\n            provided).\n        y\n            Sets the y coordinates.\n        y0\n            Alternate to `y`. Builds a linear space of y\n            coordinates. Use with `dy` where `y0` is the starting\n            coordinate and `dy` the step.\n        yaxis\n            Sets a reference between this trace's y coordinates and\n            a 2D cartesian y axis. If \"y\" (the default value), the\n            y coordinates refer to `layout.yaxis`. If \"y2\", the y\n            coordinates refer to `layout.yaxis2`, and so on.\n        ycalendar\n            Sets the calendar system to use with `y` date data.\n        yhoverformat\n            Sets the hover text formatting rulefor `y`  using d3\n            formatting mini-languages which are very similar to\n            those in Python. For numbers, see:\n            https://github.com/d3/d3-format/tree/v1.4.5#d3-format.\n            And for dates see: https://github.com/d3/d3-time-\n            format/tree/v2.2.3#locale_format. We add two items to\n            d3's date formatter: \"%h\" for half of the year as a\n            decimal number as well as \"%{n}f\" for fractional\n            seconds with n digits. For example, *2016-10-13\n            09:15:23.456* with tickformat \"%H~%M~%S.%2f\" would\n            display *09~15~23.46*By default the values are\n            formatted using `yaxis.hoverformat`.\n        yperiod\n            Only relevant when the axis `type` is \"date\". Sets the\n            period positioning in milliseconds or \"M<n>\" on the y\n            axis. Special values in the form of \"M<n>\" could be\n            used to declare the number of months. In this case `n`\n            must be a positive integer.\n        yperiod0\n            Only relevant when the axis `type` is \"date\". Sets the\n            base for period positioning in milliseconds or date\n            string on the y0 axis. When `y0period` is round number\n            of weeks, the `y0period0` by default would be on a\n            Sunday i.e. 2000-01-02, otherwise it would be at\n            2000-01-01.\n        yperiodalignment\n            Only relevant when the axis `type` is \"date\". Sets the\n            alignment of data points on the y axis.\n        ysrc\n            Sets the source reference on Chart Studio Cloud for\n            `y`.\n        ytype\n            If \"array\", the heatmap's y coordinates are given by\n            \"y\" (the default behavior when `y` is provided) If\n            \"scaled\", the heatmap's y coordinates are given by \"y0\"\n            and \"dy\" (the default behavior when `y` is not\n            provided)\n        z\n            Sets the z data.\n        zauto\n            Determines whether or not the color domain is computed\n            with respect to the input data (here in `z`) or the\n            bounds set in `zmin` and `zmax` Defaults to `false`\n            when `zmin` and `zmax` are set by the user.\n        zhoverformat\n            Sets the hover text formatting rulefor `z`  using d3\n            formatting mini-languages which are very similar to\n            those in Python. For numbers, see: https://github.com/d\n            3/d3-format/tree/v1.4.5#d3-format.By default the values\n            are formatted using generic number format.\n        zmax\n            Sets the upper bound of the color domain. Value should\n            have the same units as in `z` and if set, `zmin` must\n            be set as well.\n        zmid\n            Sets the mid-point of the color domain by scaling\n            `zmin` and/or `zmax` to be equidistant to this point.\n            Value should have the same units as in `z`. Has no\n            effect when `zauto` is `false`.\n        zmin\n            Sets the lower bound of the color domain. Value should\n            have the same units as in `z` and if set, `zmax` must\n            be set as well.\n        zorder\n            Sets the layer on which this trace is displayed,\n            relative to other SVG traces on the same subplot. SVG\n            traces with higher `zorder` appear in front of those\n            with lower `zorder`.\n        zsrc\n            Sets the source reference on Chart Studio Cloud for\n            `z`.\n        \nDid you mean \"legend\"?\n\nBad property path:\nlevels\n^^^^^^",
     "output_type": "error",
     "traceback": [
      "\u001b[1;31m---------------------------------------------------------------------------\u001b[0m",
      "\u001b[1;31mValueError\u001b[0m                                Traceback (most recent call last)",
      "Cell \u001b[1;32mIn[56], line 78\u001b[0m\n\u001b[0;32m     76\u001b[0m \u001b[38;5;66;03m# Create contours from the data (replace with your desired contour levels)\u001b[39;00m\n\u001b[0;32m     77\u001b[0m contour_levels \u001b[38;5;241m=\u001b[39m [\u001b[38;5;241m0.2\u001b[39m, \u001b[38;5;241m0.4\u001b[39m, \u001b[38;5;241m0.6\u001b[39m, \u001b[38;5;241m0.8\u001b[39m]  \u001b[38;5;66;03m# Adjust contour levels as needed\u001b[39;00m\n\u001b[1;32m---> 78\u001b[0m contours_trace \u001b[38;5;241m=\u001b[39m \u001b[43mgo\u001b[49m\u001b[38;5;241;43m.\u001b[39;49m\u001b[43mContour\u001b[49m\u001b[43m(\u001b[49m\n\u001b[0;32m     79\u001b[0m \u001b[43m  \u001b[49m\u001b[43mx\u001b[49m\u001b[38;5;241;43m=\u001b[39;49m\u001b[43mlons\u001b[49m\u001b[43m,\u001b[49m\n\u001b[0;32m     80\u001b[0m \u001b[43m  \u001b[49m\u001b[43my\u001b[49m\u001b[38;5;241;43m=\u001b[39;49m\u001b[43mlats\u001b[49m\u001b[43m,\u001b[49m\n\u001b[0;32m     81\u001b[0m \u001b[43m  \u001b[49m\u001b[43mz\u001b[49m\u001b[38;5;241;43m=\u001b[39;49m\u001b[43mdensity_grid\u001b[49m\u001b[43m,\u001b[49m\n\u001b[0;32m     82\u001b[0m \u001b[43m  \u001b[49m\u001b[43mshowscale\u001b[49m\u001b[38;5;241;43m=\u001b[39;49m\u001b[38;5;28;43;01mFalse\u001b[39;49;00m\u001b[43m,\u001b[49m\u001b[43m  \u001b[49m\u001b[38;5;66;43;03m# Hide colorscale for contours (optional)\u001b[39;49;00m\n\u001b[0;32m     83\u001b[0m \u001b[43m  \u001b[49m\u001b[43mline_smoothing\u001b[49m\u001b[38;5;241;43m=\u001b[39;49m\u001b[38;5;241;43m0.9\u001b[39;49m\u001b[43m,\u001b[49m\u001b[43m  \u001b[49m\u001b[38;5;66;43;03m# Adjust smoothing for a smoother look (optional)\u001b[39;49;00m\n\u001b[0;32m     84\u001b[0m \u001b[43m  \u001b[49m\u001b[43mlevels\u001b[49m\u001b[38;5;241;43m=\u001b[39;49m\u001b[43mcontour_levels\u001b[49m\u001b[43m,\u001b[49m\n\u001b[0;32m     85\u001b[0m \u001b[43m  \u001b[49m\u001b[43mfill_color\u001b[49m\u001b[38;5;241;43m=\u001b[39;49m\u001b[38;5;124;43m'\u001b[39;49m\u001b[38;5;124;43mnone\u001b[39;49m\u001b[38;5;124;43m'\u001b[39;49m\u001b[43m,\u001b[49m\u001b[43m  \u001b[49m\u001b[38;5;66;43;03m# Remove fill color for line contours\u001b[39;49;00m\n\u001b[0;32m     86\u001b[0m \u001b[43m  \u001b[49m\u001b[43mline_color\u001b[49m\u001b[38;5;241;43m=\u001b[39;49m\u001b[38;5;124;43m'\u001b[39;49m\u001b[38;5;124;43mdarkblue\u001b[39;49m\u001b[38;5;124;43m'\u001b[39;49m\u001b[43m  \u001b[49m\u001b[38;5;66;43;03m# Adjust line color for preference\u001b[39;49;00m\n\u001b[0;32m     87\u001b[0m \u001b[43m)\u001b[49m\n\u001b[0;32m     89\u001b[0m \u001b[38;5;66;03m# Create the map layout\u001b[39;00m\n\u001b[0;32m     90\u001b[0m map_layout \u001b[38;5;241m=\u001b[39m go\u001b[38;5;241m.\u001b[39mLayout(\n\u001b[0;32m     91\u001b[0m   mapbox_style\u001b[38;5;241m=\u001b[39m\u001b[38;5;124m'\u001b[39m\u001b[38;5;124mopen-street-map\u001b[39m\u001b[38;5;124m'\u001b[39m,\n\u001b[0;32m     92\u001b[0m   mapbox_center_lon\u001b[38;5;241m=\u001b[39mdata[\u001b[38;5;124m'\u001b[39m\u001b[38;5;124mlon\u001b[39m\u001b[38;5;124m'\u001b[39m]\u001b[38;5;241m.\u001b[39mmean(),  \u001b[38;5;66;03m# Adjust center as needed\u001b[39;00m\n\u001b[0;32m     93\u001b[0m   mapbox_center_lat\u001b[38;5;241m=\u001b[39mdata[\u001b[38;5;124m'\u001b[39m\u001b[38;5;124mlat\u001b[39m\u001b[38;5;124m'\u001b[39m]\u001b[38;5;241m.\u001b[39mmean(),  \u001b[38;5;66;03m# Adjust center as needed\u001b[39;00m\n\u001b[0;32m     94\u001b[0m   mapbox_zoom\u001b[38;5;241m=\u001b[39m\u001b[38;5;241m5\u001b[39m  \u001b[38;5;66;03m# Adjust zoom level for desired coverage\u001b[39;00m\n\u001b[0;32m     95\u001b[0m )\n",
      "File \u001b[1;32mc:\\Projs\\COde\\Meteo\\MetP\\met\\Lib\\site-packages\\plotly\\graph_objs\\_contour.py:3481\u001b[0m, in \u001b[0;36mContour.__init__\u001b[1;34m(self, arg, autocolorscale, autocontour, coloraxis, colorbar, colorscale, connectgaps, contours, customdata, customdatasrc, dx, dy, fillcolor, hoverinfo, hoverinfosrc, hoverlabel, hoverongaps, hovertemplate, hovertemplatesrc, hovertext, hovertextsrc, ids, idssrc, legend, legendgroup, legendgrouptitle, legendrank, legendwidth, line, meta, metasrc, name, ncontours, opacity, reversescale, showlegend, showscale, stream, text, textfont, textsrc, texttemplate, transpose, uid, uirevision, visible, x, x0, xaxis, xcalendar, xhoverformat, xperiod, xperiod0, xperiodalignment, xsrc, xtype, y, y0, yaxis, ycalendar, yhoverformat, yperiod, yperiod0, yperiodalignment, ysrc, ytype, z, zauto, zhoverformat, zmax, zmid, zmin, zorder, zsrc, **kwargs)\u001b[0m\n\u001b[0;32m   3477\u001b[0m arg\u001b[38;5;241m.\u001b[39mpop(\u001b[38;5;124m\"\u001b[39m\u001b[38;5;124mtype\u001b[39m\u001b[38;5;124m\"\u001b[39m, \u001b[38;5;28;01mNone\u001b[39;00m)\n\u001b[0;32m   3479\u001b[0m \u001b[38;5;66;03m# Process unknown kwargs\u001b[39;00m\n\u001b[0;32m   3480\u001b[0m \u001b[38;5;66;03m# ----------------------\u001b[39;00m\n\u001b[1;32m-> 3481\u001b[0m \u001b[38;5;28;43mself\u001b[39;49m\u001b[38;5;241;43m.\u001b[39;49m\u001b[43m_process_kwargs\u001b[49m\u001b[43m(\u001b[49m\u001b[38;5;241;43m*\u001b[39;49m\u001b[38;5;241;43m*\u001b[39;49m\u001b[38;5;28;43mdict\u001b[39;49m\u001b[43m(\u001b[49m\u001b[43marg\u001b[49m\u001b[43m,\u001b[49m\u001b[43m \u001b[49m\u001b[38;5;241;43m*\u001b[39;49m\u001b[38;5;241;43m*\u001b[39;49m\u001b[43mkwargs\u001b[49m\u001b[43m)\u001b[49m\u001b[43m)\u001b[49m\n\u001b[0;32m   3483\u001b[0m \u001b[38;5;66;03m# Reset skip_invalid\u001b[39;00m\n\u001b[0;32m   3484\u001b[0m \u001b[38;5;66;03m# ------------------\u001b[39;00m\n\u001b[0;32m   3485\u001b[0m \u001b[38;5;28mself\u001b[39m\u001b[38;5;241m.\u001b[39m_skip_invalid \u001b[38;5;241m=\u001b[39m \u001b[38;5;28;01mFalse\u001b[39;00m\n",
      "File \u001b[1;32mc:\\Projs\\COde\\Meteo\\MetP\\met\\Lib\\site-packages\\plotly\\basedatatypes.py:4392\u001b[0m, in \u001b[0;36mBasePlotlyType._process_kwargs\u001b[1;34m(self, **kwargs)\u001b[0m\n\u001b[0;32m   4390\u001b[0m     \u001b[38;5;28mself\u001b[39m[k] \u001b[38;5;241m=\u001b[39m v\n\u001b[0;32m   4391\u001b[0m \u001b[38;5;28;01melif\u001b[39;00m \u001b[38;5;129;01mnot\u001b[39;00m \u001b[38;5;28mself\u001b[39m\u001b[38;5;241m.\u001b[39m_skip_invalid:\n\u001b[1;32m-> 4392\u001b[0m     \u001b[38;5;28;01mraise\u001b[39;00m err\n",
      "\u001b[1;31mValueError\u001b[0m: Invalid property specified for object of type plotly.graph_objs.Contour: 'levels'\n\nDid you mean \"legend\"?\n\n    Valid properties:\n        autocolorscale\n            Determines whether the colorscale is a default palette\n            (`autocolorscale: true`) or the palette determined by\n            `colorscale`. In case `colorscale` is unspecified or\n            `autocolorscale` is true, the default palette will be\n            chosen according to whether numbers in the `color`\n            array are all positive, all negative or mixed.\n        autocontour\n            Determines whether or not the contour level attributes\n            are picked by an algorithm. If True, the number of\n            contour levels can be set in `ncontours`. If False, set\n            the contour level attributes in `contours`.\n        coloraxis\n            Sets a reference to a shared color axis. References to\n            these shared color axes are \"coloraxis\", \"coloraxis2\",\n            \"coloraxis3\", etc. Settings for these shared color axes\n            are set in the layout, under `layout.coloraxis`,\n            `layout.coloraxis2`, etc. Note that multiple color\n            scales can be linked to the same color axis.\n        colorbar\n            :class:`plotly.graph_objects.contour.ColorBar` instance\n            or dict with compatible properties\n        colorscale\n            Sets the colorscale. The colorscale must be an array\n            containing arrays mapping a normalized value to an rgb,\n            rgba, hex, hsl, hsv, or named color string. At minimum,\n            a mapping for the lowest (0) and highest (1) values are\n            required. For example, `[[0, 'rgb(0,0,255)'], [1,\n            'rgb(255,0,0)']]`. To control the bounds of the\n            colorscale in color space, use `zmin` and `zmax`.\n            Alternatively, `colorscale` may be a palette name\n            string of the following list: Blackbody,Bluered,Blues,C\n            ividis,Earth,Electric,Greens,Greys,Hot,Jet,Picnic,Portl\n            and,Rainbow,RdBu,Reds,Viridis,YlGnBu,YlOrRd.\n        connectgaps\n            Determines whether or not gaps (i.e. {nan} or missing\n            values) in the `z` data are filled in. It is defaulted\n            to true if `z` is a one dimensional array otherwise it\n            is defaulted to false.\n        contours\n            :class:`plotly.graph_objects.contour.Contours` instance\n            or dict with compatible properties\n        customdata\n            Assigns extra data each datum. This may be useful when\n            listening to hover, click and selection events. Note\n            that, \"scatter\" traces also appends customdata items in\n            the markers DOM elements\n        customdatasrc\n            Sets the source reference on Chart Studio Cloud for\n            `customdata`.\n        dx\n            Sets the x coordinate step. See `x0` for more info.\n        dy\n            Sets the y coordinate step. See `y0` for more info.\n        fillcolor\n            Sets the fill color if `contours.type` is \"constraint\".\n            Defaults to a half-transparent variant of the line\n            color, marker color, or marker line color, whichever is\n            available.\n        hoverinfo\n            Determines which trace information appear on hover. If\n            `none` or `skip` are set, no information is displayed\n            upon hovering. But, if `none` is set, click and hover\n            events are still fired.\n        hoverinfosrc\n            Sets the source reference on Chart Studio Cloud for\n            `hoverinfo`.\n        hoverlabel\n            :class:`plotly.graph_objects.contour.Hoverlabel`\n            instance or dict with compatible properties\n        hoverongaps\n            Determines whether or not gaps (i.e. {nan} or missing\n            values) in the `z` data have hover labels associated\n            with them.\n        hovertemplate\n            Template string used for rendering the information that\n            appear on hover box. Note that this will override\n            `hoverinfo`. Variables are inserted using %{variable},\n            for example \"y: %{y}\" as well as %{xother}, {%_xother},\n            {%_xother_}, {%xother_}. When showing info for several\n            points, \"xother\" will be added to those with different\n            x positions from the first point. An underscore before\n            or after \"(x|y)other\" will add a space on that side,\n            only when this field is shown. Numbers are formatted\n            using d3-format's syntax %{variable:d3-format}, for\n            example \"Price: %{y:$.2f}\".\n            https://github.com/d3/d3-format/tree/v1.4.5#d3-format\n            for details on the formatting syntax. Dates are\n            formatted using d3-time-format's syntax\n            %{variable|d3-time-format}, for example \"Day:\n            %{2019-01-01|%A}\". https://github.com/d3/d3-time-\n            format/tree/v2.2.3#locale_format for details on the\n            date formatting syntax. The variables available in\n            `hovertemplate` are the ones emitted as event data\n            described at this link\n            https://plotly.com/javascript/plotlyjs-events/#event-\n            data. Additionally, every attributes that can be\n            specified per-point (the ones that are `arrayOk: true`)\n            are available.  Anything contained in tag `<extra>` is\n            displayed in the secondary box, for example\n            \"<extra>{fullData.name}</extra>\". To hide the secondary\n            box completely, use an empty tag `<extra></extra>`.\n        hovertemplatesrc\n            Sets the source reference on Chart Studio Cloud for\n            `hovertemplate`.\n        hovertext\n            Same as `text`.\n        hovertextsrc\n            Sets the source reference on Chart Studio Cloud for\n            `hovertext`.\n        ids\n            Assigns id labels to each datum. These ids for object\n            constancy of data points during animation. Should be an\n            array of strings, not numbers or any other type.\n        idssrc\n            Sets the source reference on Chart Studio Cloud for\n            `ids`.\n        legend\n            Sets the reference to a legend to show this trace in.\n            References to these legends are \"legend\", \"legend2\",\n            \"legend3\", etc. Settings for these legends are set in\n            the layout, under `layout.legend`, `layout.legend2`,\n            etc.\n        legendgroup\n            Sets the legend group for this trace. Traces and shapes\n            part of the same legend group hide/show at the same\n            time when toggling legend items.\n        legendgrouptitle\n            :class:`plotly.graph_objects.contour.Legendgrouptitle`\n            instance or dict with compatible properties\n        legendrank\n            Sets the legend rank for this trace. Items and groups\n            with smaller ranks are presented on top/left side while\n            with \"reversed\" `legend.traceorder` they are on\n            bottom/right side. The default legendrank is 1000, so\n            that you can use ranks less than 1000 to place certain\n            items before all unranked items, and ranks greater than\n            1000 to go after all unranked items. When having\n            unranked or equal rank items shapes would be displayed\n            after traces i.e. according to their order in data and\n            layout.\n        legendwidth\n            Sets the width (in px or fraction) of the legend for\n            this trace.\n        line\n            :class:`plotly.graph_objects.contour.Line` instance or\n            dict with compatible properties\n        meta\n            Assigns extra meta information associated with this\n            trace that can be used in various text attributes.\n            Attributes such as trace `name`, graph, axis and\n            colorbar `title.text`, annotation `text`\n            `rangeselector`, `updatemenues` and `sliders` `label`\n            text all support `meta`. To access the trace `meta`\n            values in an attribute in the same trace, simply use\n            `%{meta[i]}` where `i` is the index or key of the\n            `meta` item in question. To access trace `meta` in\n            layout attributes, use `%{data[n[.meta[i]}` where `i`\n            is the index or key of the `meta` and `n` is the trace\n            index.\n        metasrc\n            Sets the source reference on Chart Studio Cloud for\n            `meta`.\n        name\n            Sets the trace name. The trace name appears as the\n            legend item and on hover.\n        ncontours\n            Sets the maximum number of contour levels. The actual\n            number of contours will be chosen automatically to be\n            less than or equal to the value of `ncontours`. Has an\n            effect only if `autocontour` is True or if\n            `contours.size` is missing.\n        opacity\n            Sets the opacity of the trace.\n        reversescale\n            Reverses the color mapping if true. If true, `zmin`\n            will correspond to the last color in the array and\n            `zmax` will correspond to the first color.\n        showlegend\n            Determines whether or not an item corresponding to this\n            trace is shown in the legend.\n        showscale\n            Determines whether or not a colorbar is displayed for\n            this trace.\n        stream\n            :class:`plotly.graph_objects.contour.Stream` instance\n            or dict with compatible properties\n        text\n            Sets the text elements associated with each z value.\n        textfont\n            For this trace it only has an effect if `coloring` is\n            set to \"heatmap\". Sets the text font.\n        textsrc\n            Sets the source reference on Chart Studio Cloud for\n            `text`.\n        texttemplate\n            For this trace it only has an effect if `coloring` is\n            set to \"heatmap\". Template string used for rendering\n            the information text that appear on points. Note that\n            this will override `textinfo`. Variables are inserted\n            using %{variable}, for example \"y: %{y}\". Numbers are\n            formatted using d3-format's syntax\n            %{variable:d3-format}, for example \"Price: %{y:$.2f}\".\n            https://github.com/d3/d3-format/tree/v1.4.5#d3-format\n            for details on the formatting syntax. Dates are\n            formatted using d3-time-format's syntax\n            %{variable|d3-time-format}, for example \"Day:\n            %{2019-01-01|%A}\". https://github.com/d3/d3-time-\n            format/tree/v2.2.3#locale_format for details on the\n            date formatting syntax. Every attributes that can be\n            specified per-point (the ones that are `arrayOk: true`)\n            are available. Finally, the template string has access\n            to variables `x`, `y`, `z` and `text`.\n        transpose\n            Transposes the z data.\n        uid\n            Assign an id to this trace, Use this to provide object\n            constancy between traces during animations and\n            transitions.\n        uirevision\n            Controls persistence of some user-driven changes to the\n            trace: `constraintrange` in `parcoords` traces, as well\n            as some `editable: true` modifications such as `name`\n            and `colorbar.title`. Defaults to `layout.uirevision`.\n            Note that other user-driven trace attribute changes are\n            controlled by `layout` attributes: `trace.visible` is\n            controlled by `layout.legend.uirevision`,\n            `selectedpoints` is controlled by\n            `layout.selectionrevision`, and `colorbar.(x|y)`\n            (accessible with `config: {editable: true}`) is\n            controlled by `layout.editrevision`. Trace changes are\n            tracked by `uid`, which only falls back on trace index\n            if no `uid` is provided. So if your app can add/remove\n            traces before the end of the `data` array, such that\n            the same trace has a different index, you can still\n            preserve user-driven changes if you give each trace a\n            `uid` that stays with it as it moves.\n        visible\n            Determines whether or not this trace is visible. If\n            \"legendonly\", the trace is not drawn, but can appear as\n            a legend item (provided that the legend itself is\n            visible).\n        x\n            Sets the x coordinates.\n        x0\n            Alternate to `x`. Builds a linear space of x\n            coordinates. Use with `dx` where `x0` is the starting\n            coordinate and `dx` the step.\n        xaxis\n            Sets a reference between this trace's x coordinates and\n            a 2D cartesian x axis. If \"x\" (the default value), the\n            x coordinates refer to `layout.xaxis`. If \"x2\", the x\n            coordinates refer to `layout.xaxis2`, and so on.\n        xcalendar\n            Sets the calendar system to use with `x` date data.\n        xhoverformat\n            Sets the hover text formatting rulefor `x`  using d3\n            formatting mini-languages which are very similar to\n            those in Python. For numbers, see:\n            https://github.com/d3/d3-format/tree/v1.4.5#d3-format.\n            And for dates see: https://github.com/d3/d3-time-\n            format/tree/v2.2.3#locale_format. We add two items to\n            d3's date formatter: \"%h\" for half of the year as a\n            decimal number as well as \"%{n}f\" for fractional\n            seconds with n digits. For example, *2016-10-13\n            09:15:23.456* with tickformat \"%H~%M~%S.%2f\" would\n            display *09~15~23.46*By default the values are\n            formatted using `xaxis.hoverformat`.\n        xperiod\n            Only relevant when the axis `type` is \"date\". Sets the\n            period positioning in milliseconds or \"M<n>\" on the x\n            axis. Special values in the form of \"M<n>\" could be\n            used to declare the number of months. In this case `n`\n            must be a positive integer.\n        xperiod0\n            Only relevant when the axis `type` is \"date\". Sets the\n            base for period positioning in milliseconds or date\n            string on the x0 axis. When `x0period` is round number\n            of weeks, the `x0period0` by default would be on a\n            Sunday i.e. 2000-01-02, otherwise it would be at\n            2000-01-01.\n        xperiodalignment\n            Only relevant when the axis `type` is \"date\". Sets the\n            alignment of data points on the x axis.\n        xsrc\n            Sets the source reference on Chart Studio Cloud for\n            `x`.\n        xtype\n            If \"array\", the heatmap's x coordinates are given by\n            \"x\" (the default behavior when `x` is provided). If\n            \"scaled\", the heatmap's x coordinates are given by \"x0\"\n            and \"dx\" (the default behavior when `x` is not\n            provided).\n        y\n            Sets the y coordinates.\n        y0\n            Alternate to `y`. Builds a linear space of y\n            coordinates. Use with `dy` where `y0` is the starting\n            coordinate and `dy` the step.\n        yaxis\n            Sets a reference between this trace's y coordinates and\n            a 2D cartesian y axis. If \"y\" (the default value), the\n            y coordinates refer to `layout.yaxis`. If \"y2\", the y\n            coordinates refer to `layout.yaxis2`, and so on.\n        ycalendar\n            Sets the calendar system to use with `y` date data.\n        yhoverformat\n            Sets the hover text formatting rulefor `y`  using d3\n            formatting mini-languages which are very similar to\n            those in Python. For numbers, see:\n            https://github.com/d3/d3-format/tree/v1.4.5#d3-format.\n            And for dates see: https://github.com/d3/d3-time-\n            format/tree/v2.2.3#locale_format. We add two items to\n            d3's date formatter: \"%h\" for half of the year as a\n            decimal number as well as \"%{n}f\" for fractional\n            seconds with n digits. For example, *2016-10-13\n            09:15:23.456* with tickformat \"%H~%M~%S.%2f\" would\n            display *09~15~23.46*By default the values are\n            formatted using `yaxis.hoverformat`.\n        yperiod\n            Only relevant when the axis `type` is \"date\". Sets the\n            period positioning in milliseconds or \"M<n>\" on the y\n            axis. Special values in the form of \"M<n>\" could be\n            used to declare the number of months. In this case `n`\n            must be a positive integer.\n        yperiod0\n            Only relevant when the axis `type` is \"date\". Sets the\n            base for period positioning in milliseconds or date\n            string on the y0 axis. When `y0period` is round number\n            of weeks, the `y0period0` by default would be on a\n            Sunday i.e. 2000-01-02, otherwise it would be at\n            2000-01-01.\n        yperiodalignment\n            Only relevant when the axis `type` is \"date\". Sets the\n            alignment of data points on the y axis.\n        ysrc\n            Sets the source reference on Chart Studio Cloud for\n            `y`.\n        ytype\n            If \"array\", the heatmap's y coordinates are given by\n            \"y\" (the default behavior when `y` is provided) If\n            \"scaled\", the heatmap's y coordinates are given by \"y0\"\n            and \"dy\" (the default behavior when `y` is not\n            provided)\n        z\n            Sets the z data.\n        zauto\n            Determines whether or not the color domain is computed\n            with respect to the input data (here in `z`) or the\n            bounds set in `zmin` and `zmax` Defaults to `false`\n            when `zmin` and `zmax` are set by the user.\n        zhoverformat\n            Sets the hover text formatting rulefor `z`  using d3\n            formatting mini-languages which are very similar to\n            those in Python. For numbers, see: https://github.com/d\n            3/d3-format/tree/v1.4.5#d3-format.By default the values\n            are formatted using generic number format.\n        zmax\n            Sets the upper bound of the color domain. Value should\n            have the same units as in `z` and if set, `zmin` must\n            be set as well.\n        zmid\n            Sets the mid-point of the color domain by scaling\n            `zmin` and/or `zmax` to be equidistant to this point.\n            Value should have the same units as in `z`. Has no\n            effect when `zauto` is `false`.\n        zmin\n            Sets the lower bound of the color domain. Value should\n            have the same units as in `z` and if set, `zmax` must\n            be set as well.\n        zorder\n            Sets the layer on which this trace is displayed,\n            relative to other SVG traces on the same subplot. SVG\n            traces with higher `zorder` appear in front of those\n            with lower `zorder`.\n        zsrc\n            Sets the source reference on Chart Studio Cloud for\n            `z`.\n        \nDid you mean \"legend\"?\n\nBad property path:\nlevels\n^^^^^^"
     ]
    }
   ],
   "source": [
    "import pandas as pd\n",
    "import plotly.graph_objs as go\n",
    "import numpy as np\n",
    "\n",
    "# Load your weather data\n",
    "df = pd.read_csv(r\"C:\\Projs\\COde\\Meteo\\MetP\\data\\bhopal_weather_hourly_10_days.csv\")\n",
    "df['Longitude'] = 77.4126\n",
    "df['Latitude'] = 23.2599\n",
    "df['Datetime'] = pd.to_datetime(df['Datetime'])\n",
    "\n",
    "# Create a data frame with date, latitude, longitude, and temperature\n",
    "data = pd.DataFrame({\n",
    "  'date': df['Datetime'],  # Replace with the actual column name for date\n",
    "  'lat': df['Latitude'],  # Replace with the actual column name for latitude\n",
    "  'lon': df['Longitude'],  # Replace with the actual column name for longitude\n",
    "  'temperature': df['Temperature (°C)']  # Replace with the actual column name for temperature\n",
    "})\n",
    "\n",
    "# (Optional) Add non-linear noise to data (adjust for effect)\n",
    "noise_amplitude = 15\n",
    "noise = np.random.rand(len(data)) * noise_amplitude - noise_amplitude / 2\n",
    "data['temperature'] += noise\n",
    "\n",
    "\n",
    "def estimate_density_idw(data, power=2):\n",
    "  \"\"\"\n",
    "  Estimates density using Inverse Distance Weighting (IDW).\n",
    "\n",
    "  Args:\n",
    "      data (pd.DataFrame): DataFrame containing latitude, longitude, and temperature data.\n",
    "      power (int, optional): Power parameter for IDW weighting. Defaults to 2.\n",
    "\n",
    "  Returns:\n",
    "      np.ndarray: A 2D array containing the estimated density at each grid point.\n",
    "  \"\"\"\n",
    "  # Define grid parameters (adjust as needed)\n",
    "  grid_size = 50\n",
    "  lon_min, lon_max = data['lon'].min(), data['lon'].max()\n",
    "  lat_min, lat_max = data['lat'].min(), data['lat'].max()\n",
    "  lons, lats = np.linspace(lon_min, lon_max, grid_size), np.linspace(lat_min, lat_max, grid_size)\n",
    "\n",
    "  # Create an empty density grid\n",
    "  density_grid = np.zeros((grid_size, grid_size))\n",
    "\n",
    "  # Iterate through each grid point\n",
    "  for i in range(grid_size):\n",
    "    for j in range(grid_size):\n",
    "      lon, lat = lons[j], lats[i]\n",
    "\n",
    "      # Calculate distances to data points\n",
    "      distances = np.sqrt(((data['lon'] - lon) ** 2) + ((data['lat'] - lat) ** 2))\n",
    "\n",
    "      # Apply IDW weighting\n",
    "      weights = 1 / (distances**power)\n",
    "\n",
    "      # Normalize weights (optional)\n",
    "      weights /= weights.sum()\n",
    "\n",
    "      # Calculate weighted average temperature\n",
    "      density_grid[i, j] = np.average(data['temperature'], weights=weights)\n",
    "\n",
    "  return density_grid\n",
    "\n",
    "# Create the density grid using IDW\n",
    "density_grid = estimate_density_idw(data)\n",
    "\n",
    "# Create the heatmap trace (replace with your preferred visual style)\n",
    "heatmap_trace = go.Heatmap(\n",
    "  x=lons,\n",
    "  y=lats,\n",
    "  z=density_grid,\n",
    "  colorscale='Viridis',  # Adjust colorscale for preference\n",
    "  showscale=False  # Hide colorscale for heatmap (optional)\n",
    ")\n",
    "\n",
    "# Create contours from the data (replace with your desired contour levels)\n",
    "contour_levels = [0.2, 0.4, 0.6, 0.8]  # Adjust contour levels as needed\n",
    "contours_trace = go.Contour(\n",
    "  x=lons,\n",
    "  y=lats,\n",
    "  z=density_grid,\n",
    "  showscale=False,  # Hide colorscale for contours (optional)\n",
    "  line_smoothing=0.9,  # Adjust smoothing for a smoother look (optional)\n",
    "  # levels=contour_levels,\n",
    "  fill_color='none',  # Remove fill color for line contours\n",
    "  line_color='darkblue'  # Adjust line color for preference\n",
    ")\n",
    "\n",
    "# Create the map layout\n",
    "map_layout = go.Layout(\n",
    "  mapbox_style='open-street-map',\n",
    "  mapbox_center_lon=data['lon'].mean(),  # Adjust center as needed\n",
    "  mapbox_center_lat=data['lat'].mean(),  # Adjust center as needed\n",
    "  mapbox_zoom=5  # Adjust zoom level for desired coverage\n",
    ")\n",
    "\n",
    "# Combine traces and display the figure\n",
    "fig = go.Figure(data=[heatmap_trace, contours_trace], layout=map_layout)\n",
    "fig.show()\n"
   ]
  },
  {
   "cell_type": "code",
   "execution_count": 57,
   "metadata": {},
   "outputs": [],
   "source": [
    "import pandas as pd\n",
    "import streamlit as st\n",
    "import matplotlib.pyplot as plt\n",
    "from PIL import Image\n",
    "import plotly.express as px\n",
    "\n",
    "# Read CSV data for each city\n",
    "bhopal_data_df = pd.read_csv('data/bhopal_weather_hourly_10_days.csv')\n",
    "bangalore_data_df = pd.read_csv('data/Bengaluru_weather_hourly_10_days.csv')\n",
    "gandhi_nagar_data_df = pd.read_csv('data/gandhinagar_weather_hourly_10_days.csv')\n",
    "srinagar_data_df = pd.read_csv('data/srinagar_weather_hourly_10_days.csv')\n",
    "\n",
    "# Combine DataFrames into a dictionary\n",
    "cities_data = {\n",
    "    \"Bhopal\": bhopal_data_df,\n",
    "    \"Bangalore\": bangalore_data_df,\n",
    "    \"Gandhi Nagar\": gandhi_nagar_data_df,\n",
    "    \"Srinagar\": srinagar_data_df\n",
    "}\n"
   ]
  },
  {
   "cell_type": "code",
   "execution_count": 65,
   "metadata": {},
   "outputs": [],
   "source": [
    "for i, x in cities_data.items():\n",
    "    x['Datetime'] = pd.to_datetime(x['Datetime'])"
   ]
  },
  {
   "cell_type": "code",
   "execution_count": 66,
   "metadata": {},
   "outputs": [
    {
     "name": "stdout",
     "output_type": "stream",
     "text": [
      "<class 'pandas.core.frame.DataFrame'>\n",
      "RangeIndex: 240 entries, 0 to 239\n",
      "Data columns (total 8 columns):\n",
      " #   Column                    Non-Null Count  Dtype         \n",
      "---  ------                    --------------  -----         \n",
      " 0   Datetime                  240 non-null    datetime64[ns]\n",
      " 1   Temperature (°C)          240 non-null    float64       \n",
      " 2   Relative Humidity (%)     240 non-null    int64         \n",
      " 3   Precipitation (mm)        240 non-null    float64       \n",
      " 4   Wind Speed (m/s)          240 non-null    float64       \n",
      " 5   Wind Direction (degrees)  240 non-null    int64         \n",
      " 6   Cloud Coverage (%)        240 non-null    int64         \n",
      " 7   Thunderstorm Occurrence   240 non-null    object        \n",
      "dtypes: datetime64[ns](1), float64(3), int64(3), object(1)\n",
      "memory usage: 15.1+ KB\n"
     ]
    }
   ],
   "source": [
    "bhopal_data_df.info()"
   ]
  },
  {
   "cell_type": "code",
   "execution_count": 69,
   "metadata": {},
   "outputs": [
    {
     "data": {
      "application/vnd.plotly.v1+json": {
       "config": {
        "plotlyServerURL": "https://plot.ly"
       },
       "data": [
        {
         "hovertemplate": "year=%{x}<br>loss=%{y}<extra></extra>",
         "legendgroup": "",
         "line": {
          "color": "#000001",
          "dash": "solid"
         },
         "marker": {
          "symbol": "circle"
         },
         "mode": "lines",
         "name": "",
         "orientation": "v",
         "showlegend": false,
         "type": "scatter",
         "x": [
          2019,
          2020,
          2021,
          2022
         ],
         "xaxis": "x",
         "y": [
          0,
          1,
          2,
          3
         ],
         "yaxis": "y"
        },
        {
         "type": "scatter",
         "x": [
          2019,
          2020,
          2021,
          2022
         ],
         "y": [
          90,
          91,
          92,
          93
         ]
        },
        {
         "type": "scatter",
         "x": [
          2019,
          2020,
          2021,
          2022
         ],
         "y": [
          100,
          90,
          95,
          97
         ]
        }
       ],
       "layout": {
        "legend": {
         "tracegroupgap": 0
        },
        "margin": {
         "t": 60
        },
        "template": {
         "data": {
          "candlestick": [
           {
            "decreasing": {
             "line": {
              "color": "#000033"
             }
            },
            "increasing": {
             "line": {
              "color": "#000032"
             }
            },
            "type": "candlestick"
           }
          ],
          "contour": [
           {
            "colorscale": [
             [
              0,
              "#000011"
             ],
             [
              0.1111111111111111,
              "#000012"
             ],
             [
              0.2222222222222222,
              "#000013"
             ],
             [
              0.3333333333333333,
              "#000014"
             ],
             [
              0.4444444444444444,
              "#000015"
             ],
             [
              0.5555555555555556,
              "#000016"
             ],
             [
              0.6666666666666666,
              "#000017"
             ],
             [
              0.7777777777777778,
              "#000018"
             ],
             [
              0.8888888888888888,
              "#000019"
             ],
             [
              1,
              "#000020"
             ]
            ],
            "type": "contour"
           }
          ],
          "contourcarpet": [
           {
            "colorscale": [
             [
              0,
              "#000011"
             ],
             [
              0.1111111111111111,
              "#000012"
             ],
             [
              0.2222222222222222,
              "#000013"
             ],
             [
              0.3333333333333333,
              "#000014"
             ],
             [
              0.4444444444444444,
              "#000015"
             ],
             [
              0.5555555555555556,
              "#000016"
             ],
             [
              0.6666666666666666,
              "#000017"
             ],
             [
              0.7777777777777778,
              "#000018"
             ],
             [
              0.8888888888888888,
              "#000019"
             ],
             [
              1,
              "#000020"
             ]
            ],
            "type": "contourcarpet"
           }
          ],
          "heatmap": [
           {
            "colorscale": [
             [
              0,
              "#000011"
             ],
             [
              0.1111111111111111,
              "#000012"
             ],
             [
              0.2222222222222222,
              "#000013"
             ],
             [
              0.3333333333333333,
              "#000014"
             ],
             [
              0.4444444444444444,
              "#000015"
             ],
             [
              0.5555555555555556,
              "#000016"
             ],
             [
              0.6666666666666666,
              "#000017"
             ],
             [
              0.7777777777777778,
              "#000018"
             ],
             [
              0.8888888888888888,
              "#000019"
             ],
             [
              1,
              "#000020"
             ]
            ],
            "type": "heatmap"
           }
          ],
          "histogram2d": [
           {
            "colorscale": [
             [
              0,
              "#000011"
             ],
             [
              0.1111111111111111,
              "#000012"
             ],
             [
              0.2222222222222222,
              "#000013"
             ],
             [
              0.3333333333333333,
              "#000014"
             ],
             [
              0.4444444444444444,
              "#000015"
             ],
             [
              0.5555555555555556,
              "#000016"
             ],
             [
              0.6666666666666666,
              "#000017"
             ],
             [
              0.7777777777777778,
              "#000018"
             ],
             [
              0.8888888888888888,
              "#000019"
             ],
             [
              1,
              "#000020"
             ]
            ],
            "type": "histogram2d"
           }
          ],
          "icicle": [
           {
            "textfont": {
             "color": "white"
            },
            "type": "icicle"
           }
          ],
          "sankey": [
           {
            "textfont": {
             "color": "#000036"
            },
            "type": "sankey"
           }
          ],
          "scatter": [
           {
            "marker": {
             "line": {
              "width": 0
             }
            },
            "type": "scatter"
           }
          ],
          "table": [
           {
            "cells": {
             "fill": {
              "color": "#000038"
             },
             "font": {
              "color": "#000037"
             },
             "line": {
              "color": "#000039"
             }
            },
            "header": {
             "fill": {
              "color": "#000040"
             },
             "font": {
              "color": "#000036"
             },
             "line": {
              "color": "#000039"
             }
            },
            "type": "table"
           }
          ],
          "waterfall": [
           {
            "connector": {
             "line": {
              "color": "#000036",
              "width": 2
             }
            },
            "decreasing": {
             "marker": {
              "color": "#000033"
             }
            },
            "increasing": {
             "marker": {
              "color": "#000032"
             }
            },
            "totals": {
             "marker": {
              "color": "#000034"
             }
            },
            "type": "waterfall"
           }
          ]
         },
         "layout": {
          "coloraxis": {
           "colorscale": [
            [
             0,
             "#000011"
            ],
            [
             0.1111111111111111,
             "#000012"
            ],
            [
             0.2222222222222222,
             "#000013"
            ],
            [
             0.3333333333333333,
             "#000014"
            ],
            [
             0.4444444444444444,
             "#000015"
            ],
            [
             0.5555555555555556,
             "#000016"
            ],
            [
             0.6666666666666666,
             "#000017"
            ],
            [
             0.7777777777777778,
             "#000018"
            ],
            [
             0.8888888888888888,
             "#000019"
            ],
            [
             1,
             "#000020"
            ]
           ]
          },
          "colorscale": {
           "diverging": [
            [
             0,
             "#000021"
            ],
            [
             0.1,
             "#000022"
            ],
            [
             0.2,
             "#000023"
            ],
            [
             0.3,
             "#000024"
            ],
            [
             0.4,
             "#000025"
            ],
            [
             0.5,
             "#000026"
            ],
            [
             0.6,
             "#000027"
            ],
            [
             0.7,
             "#000028"
            ],
            [
             0.8,
             "#000029"
            ],
            [
             0.9,
             "#000030"
            ],
            [
             1,
             "#000031"
            ]
           ],
           "sequential": [
            [
             0,
             "#000011"
            ],
            [
             0.1111111111111111,
             "#000012"
            ],
            [
             0.2222222222222222,
             "#000013"
            ],
            [
             0.3333333333333333,
             "#000014"
            ],
            [
             0.4444444444444444,
             "#000015"
            ],
            [
             0.5555555555555556,
             "#000016"
            ],
            [
             0.6666666666666666,
             "#000017"
            ],
            [
             0.7777777777777778,
             "#000018"
            ],
            [
             0.8888888888888888,
             "#000019"
            ],
            [
             1,
             "#000020"
            ]
           ],
           "sequentialminus": [
            [
             0,
             "#000011"
            ],
            [
             0.1111111111111111,
             "#000012"
            ],
            [
             0.2222222222222222,
             "#000013"
            ],
            [
             0.3333333333333333,
             "#000014"
            ],
            [
             0.4444444444444444,
             "#000015"
            ],
            [
             0.5555555555555556,
             "#000016"
            ],
            [
             0.6666666666666666,
             "#000017"
            ],
            [
             0.7777777777777778,
             "#000018"
            ],
            [
             0.8888888888888888,
             "#000019"
            ],
            [
             1,
             "#000020"
            ]
           ]
          },
          "colorway": [
           "#000001",
           "#000002",
           "#000003",
           "#000004",
           "#000005",
           "#000006",
           "#000007",
           "#000008",
           "#000009",
           "#000010"
          ]
         }
        },
        "xaxis": {
         "anchor": "y",
         "domain": [
          0,
          1
         ],
         "title": {
          "text": "year"
         }
        },
        "yaxis": {
         "anchor": "x",
         "domain": [
          0,
          1
         ],
         "title": {
          "text": "loss"
         }
        }
       }
      }
     },
     "metadata": {},
     "output_type": "display_data"
    }
   ],
   "source": [
    "import plotly.express as px\n",
    "import pandas as pd\n",
    "\n",
    "# Create a sample dataset\n",
    "data = {\n",
    "    'year': [2019, 2020, 2021, 2022],\n",
    "    'loss': [0, 1, 2, 3],\n",
    "    'gain': [90, 91, 92, 93],\n",
    "    'profit': [100, 90, 95, 97]\n",
    "}\n",
    "\n",
    "df = pd.DataFrame(data)\n",
    "\n",
    "# Create the Plotly figure\n",
    "fig = px.line(df, x='year', y='loss')\n",
    "\n",
    "# Add scatter plots for additional y-axis values\n",
    "fig.add_scatter(x=df['year'], y=df['gain'])\n",
    "fig.add_scatter(x=df['year'], y=df['profit'])\n",
    "\n",
    "# Set the size of the plot\n",
    "fig.update_layout(width=716, height=350)\n",
    "\n",
    "# Display the plot\n",
    "fig.show()\n"
   ]
  },
  {
   "cell_type": "code",
   "execution_count": null,
   "metadata": {},
   "outputs": [],
   "source": []
  }
 ],
 "metadata": {
  "kernelspec": {
   "display_name": "met",
   "language": "python",
   "name": "python3"
  },
  "language_info": {
   "codemirror_mode": {
    "name": "ipython",
    "version": 3
   },
   "file_extension": ".py",
   "mimetype": "text/x-python",
   "name": "python",
   "nbconvert_exporter": "python",
   "pygments_lexer": "ipython3",
   "version": "3.11.5"
  }
 },
 "nbformat": 4,
 "nbformat_minor": 2
}
